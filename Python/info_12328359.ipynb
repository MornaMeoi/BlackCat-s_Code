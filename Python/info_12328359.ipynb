{
 "cells": [
  {
   "cell_type": "code",
   "execution_count": 56,
   "id": "93fcb99e",
   "metadata": {},
   "outputs": [
    {
     "name": "stdout",
     "output_type": "stream",
     "text": [
      "4122\n"
     ]
    }
   ],
   "source": [
    "def foo(n):\n",
    "    if n == 1:\n",
    "        return 1\n",
    "    elif n % 2 == 0:\n",
    "        return n + foo(n-1)\n",
    "    else:\n",
    "        return 2 * foo(n-2)\n",
    "print(foo(26))"
   ]
  },
  {
   "cell_type": "code",
   "execution_count": 82,
   "id": "7dd01413",
   "metadata": {},
   "outputs": [
    {
     "name": "stdout",
     "output_type": "stream",
     "text": [
      "1569269 19982\n"
     ]
    }
   ],
   "source": [
    "nums = []\n",
    "with open('17.txt', 'r') as inp:\n",
    "    nums = [int(x) for x in inp.readlines()]\n",
    "result = []\n",
    "for i, x in enumerate(nums[:-1]):\n",
    "    for j, y in enumerate(nums[i+1:]):\n",
    "        if (x - y) % 2 == 0 and (x % 31 == 0 or y % 31 == 0):\n",
    "            result.append(x+y)\n",
    "print(len(result), max(result))"
   ]
  },
  {
   "cell_type": "code",
   "execution_count": 85,
   "id": "4ce9600d",
   "metadata": {},
   "outputs": [
    {
     "name": "stdout",
     "output_type": "stream",
     "text": [
      "169\n"
     ]
    }
   ],
   "source": [
    "def foo(a, n):\n",
    "    if a == n:\n",
    "        return 1\n",
    "    elif a > n:\n",
    "        return 0\n",
    "    else:\n",
    "        return foo(a+1, n) + foo(a+3, n)\n",
    "print(foo(1,9) * foo(9,17))"
   ]
  },
  {
   "cell_type": "code",
   "execution_count": 61,
   "id": "d13b8b23",
   "metadata": {},
   "outputs": [
    {
     "name": "stdout",
     "output_type": "stream",
     "text": [
      "11\n"
     ]
    }
   ],
   "source": [
    "with open('24.txt', 'r') as inp:\n",
    "    result, counter = 0, 0\n",
    "    for x in inp.readline():\n",
    "        if x == 'B':\n",
    "            counter += 1\n",
    "        else:\n",
    "            result = max(counter, result)\n",
    "            counter = 0\n",
    "    print(result)"
   ]
  },
  {
   "cell_type": "code",
   "execution_count": 64,
   "id": "803efe61",
   "metadata": {},
   "outputs": [
    {
     "name": "stdout",
     "output_type": "stream",
     "text": [
      "[(1321399324, 653188), (1421396214, 702618), (1521393104, 752048), (162139404, 80148)]\n"
     ]
    }
   ],
   "source": [
    "result = []\n",
    "for x in range(10):\n",
    "    for y in range(1000):\n",
    "        if y == 0:\n",
    "            y = ''\n",
    "        num = int(f'1{str(x)}2139{str(y)}4')\n",
    "        if num % 2023 == 0:\n",
    "            result.append((num, int(num/2023)))\n",
    "print(result)"
   ]
  },
  {
   "cell_type": "code",
   "execution_count": 68,
   "id": "5432ee5f",
   "metadata": {},
   "outputs": [
    {
     "name": "stdout",
     "output_type": "stream",
     "text": [
      "2767 51\n"
     ]
    }
   ],
   "source": [
    "boxes = []\n",
    "with open('26.txt', 'r') as inp:\n",
    "    boxes = sorted([int(x) for x in inp.readlines()[1:]], reverse=True)\n",
    "res = [boxes[0]]\n",
    "for x in boxes:\n",
    "    if x <= res[-1] - 3:\n",
    "        res.append(x)\n",
    "print(len(res), res[-1])"
   ]
  },
  {
   "cell_type": "code",
   "execution_count": 87,
   "id": "31a8aecc",
   "metadata": {},
   "outputs": [
    {
     "name": "stdout",
     "output_type": "stream",
     "text": [
      "127127 399762080\n"
     ]
    }
   ],
   "source": [
    "def foo(file):\n",
    "    result, min_diff = 0, 10000\n",
    "    with open(file) as inp:\n",
    "        for x in inp.readlines()[1:]:\n",
    "            x = tuple(map(int, x.split()))\n",
    "            result += max(x)\n",
    "            diff = abs(x[1] - x[0])\n",
    "            if diff < min_diff and diff % 3 != 0:\n",
    "                min_diff = diff\n",
    "    return result if result % 3 != 0 else result - min_diff\n",
    "\n",
    "print(foo('27_A.txt'), foo('27_B.txt'))"
   ]
  },
  {
   "cell_type": "code",
   "execution_count": 73,
   "id": "e22d0bd9",
   "metadata": {},
   "outputs": [
    {
     "data": {
      "text/plain": [
       "True"
      ]
     },
     "execution_count": 73,
     "metadata": {},
     "output_type": "execute_result"
    }
   ],
   "source": [
    "-4 % 2 == 0"
   ]
  }
 ],
 "metadata": {
  "kernelspec": {
   "display_name": "Python 3 (ipykernel)",
   "language": "python",
   "name": "python3"
  },
  "language_info": {
   "codemirror_mode": {
    "name": "ipython",
    "version": 3
   },
   "file_extension": ".py",
   "mimetype": "text/x-python",
   "name": "python",
   "nbconvert_exporter": "python",
   "pygments_lexer": "ipython3",
   "version": "3.10.6"
  }
 },
 "nbformat": 4,
 "nbformat_minor": 5
}
