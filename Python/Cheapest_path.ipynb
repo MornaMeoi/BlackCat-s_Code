{
 "cells": [
  {
   "cell_type": "code",
   "execution_count": 7,
   "id": "993dd4af",
   "metadata": {},
   "outputs": [
    {
     "name": "stdout",
     "output_type": "stream",
     "text": [
      "11\n"
     ]
    }
   ],
   "source": [
    "# https://coderun.yandex.ru/problem/cheapest-way?currentPage=1&pageSize=10&rowNumber=2\n",
    "inp = open(\"input.txt\")\n",
    "arr = [list(map(int, line.split())) for line in inp.readlines()[1:]]\n",
    "\n",
    "for j in range(1, len(arr[0])):\n",
    "    arr[0][j] += arr[0][j-1]\n",
    "for i in range(1, len(arr)):\n",
    "    arr[i][0] += arr[i-1][0]\n",
    "\n",
    "for i in range(1, len(arr)):\n",
    "    for j in range(1, len(arr[0])):\n",
    "        arr[i][j] += min(arr[i-1][j], arr[i][j-1])\n",
    "print(arr[-1][-1])\n",
    "inp.close()"
   ]
  }
 ],
 "metadata": {
  "kernelspec": {
   "display_name": "Python 3 (ipykernel)",
   "language": "python",
   "name": "python3"
  },
  "language_info": {
   "codemirror_mode": {
    "name": "ipython",
    "version": 3
   },
   "file_extension": ".py",
   "mimetype": "text/x-python",
   "name": "python",
   "nbconvert_exporter": "python",
   "pygments_lexer": "ipython3",
   "version": "3.10.6"
  }
 },
 "nbformat": 4,
 "nbformat_minor": 5
}
