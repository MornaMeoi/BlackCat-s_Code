{
 "cells": [
  {
   "cell_type": "code",
   "execution_count": 16,
   "id": "f70c9c4c",
   "metadata": {},
   "outputs": [
    {
     "name": "stdout",
     "output_type": "stream",
     "text": [
      "3 50\n",
      "60 20\n",
      "100 50\n",
      "120 40\n",
      "[[60, 20], [120, 40], [100, 50]]\n"
     ]
    }
   ],
   "source": [
    "#алгоритм поиска максимальной стоимости предметов, которые можно поместить в рюкзак\n",
    "items_num, backpack_capacity = (int(i) for i in input().split())\n",
    "items = [[int(i) for i in input().split()] for _ in range(items_num)]\n",
    "items.sort(key=lambda x: x[0]/x[1], reverse=True)\n",
    "worth = 0\n",
    "for item in items:\n",
    "    if backpack_capacity >= item[1]:\n",
    "        backpack_capacity -= item[1]\n",
    "        worth += item[0]\n",
    "    else:\n",
    "        worth += (backpack_capacity / item[1]) * item[0]\n",
    "        break\n",
    "print(worth)"
   ]
  },
  {
   "cell_type": "code",
   "execution_count": 14,
   "id": "ec333a10",
   "metadata": {},
   "outputs": [],
   "source": [
    "?list.sort"
   ]
  },
  {
   "cell_type": "code",
   "execution_count": null,
   "id": "5172c6ee",
   "metadata": {},
   "outputs": [],
   "source": []
  }
 ],
 "metadata": {
  "kernelspec": {
   "display_name": "Python 3 (ipykernel)",
   "language": "python",
   "name": "python3"
  },
  "language_info": {
   "codemirror_mode": {
    "name": "ipython",
    "version": 3
   },
   "file_extension": ".py",
   "mimetype": "text/x-python",
   "name": "python",
   "nbconvert_exporter": "python",
   "pygments_lexer": "ipython3",
   "version": "3.10.4"
  }
 },
 "nbformat": 4,
 "nbformat_minor": 5
}
