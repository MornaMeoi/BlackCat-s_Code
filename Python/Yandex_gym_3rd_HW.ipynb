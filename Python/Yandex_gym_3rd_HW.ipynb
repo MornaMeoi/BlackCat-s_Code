{
 "cells": [
  {
   "cell_type": "code",
   "execution_count": 3,
   "id": "a63ace8f",
   "metadata": {
    "collapsed": true
   },
   "outputs": [
    {
     "name": "stdout",
     "output_type": "stream",
     "text": [
      "1 2 3 4 5 1 2 1 2 7 3\n",
      "6\n"
     ]
    }
   ],
   "source": [
    "#Задача A. Количество различных чисел\n",
    "print(len(set(input().split())))"
   ]
  },
  {
   "cell_type": "code",
   "execution_count": 7,
   "id": "0db5c346",
   "metadata": {
    "collapsed": true
   },
   "outputs": [
    {
     "name": "stdout",
     "output_type": "stream",
     "text": [
      "1 2 6 4 5 7\n",
      "10 2 3 4 8\n",
      "2 4\n"
     ]
    }
   ],
   "source": [
    "#Задача B. Пересечение множеств\n",
    "print(*sorted(map(int, (set(input().split()).intersection(set(input().split()))))))"
   ]
  },
  {
   "cell_type": "code",
   "execution_count": 12,
   "id": "d30c2387",
   "metadata": {
    "collapsed": true
   },
   "outputs": [
    {
     "name": "stdout",
     "output_type": "stream",
     "text": [
      "2 2\n",
      "1\n",
      "2\n",
      "2\n",
      "3\n",
      "1\n",
      "2\n",
      "1\n",
      "1\n",
      "1\n",
      "3\n"
     ]
    }
   ],
   "source": [
    "#Задача C. Кубики\n",
    "def printer(collection):\n",
    "    print(len(collection))\n",
    "    print(*sorted(collection))\n",
    "N, M = map(int, input().split())\n",
    "a = frozenset({int(input()) for _ in range(N)})\n",
    "b = frozenset({int(input()) for _ in range(M)})\n",
    "res = a.intersection(b)\n",
    "printer(res)\n",
    "res = a.difference(b)\n",
    "printer(res)\n",
    "res = b.difference(a)\n",
    "printer(res)"
   ]
  },
  {
   "cell_type": "code",
   "execution_count": 28,
   "id": "6ea0911f",
   "metadata": {
    "collapsed": true
   },
   "outputs": [
    {
     "name": "stdout",
     "output_type": "stream",
     "text": [
      "19\n"
     ]
    }
   ],
   "source": [
    "#Задача D. Количество слов в тексте\n",
    "with open('input.txt') as inp:\n",
    "    unique = set()\n",
    "    for line in inp.readlines():\n",
    "        unique.update(line.split())\n",
    "    print(len(unique))"
   ]
  },
  {
   "cell_type": "code",
   "execution_count": 34,
   "id": "5c2c705a",
   "metadata": {
    "collapsed": true
   },
   "outputs": [
    {
     "name": "stdout",
     "output_type": "stream",
     "text": [
      "5 7 3\n",
      "123\n",
      "2\n"
     ]
    }
   ],
   "source": [
    "#Задача E. OpenCalculator\n",
    "buttons = set(input().split())\n",
    "num = {i for i in input()}\n",
    "print(len(num.difference(buttons)))"
   ]
  },
  {
   "cell_type": "code",
   "execution_count": 41,
   "id": "248f525c",
   "metadata": {
    "collapsed": true
   },
   "outputs": [
    {
     "name": "stdout",
     "output_type": "stream",
     "text": [
      "ABBACAB\n",
      "BCABB\n",
      "AB 2\n",
      "True\n",
      "BB 1\n",
      "True\n",
      "BA 1\n",
      "False\n",
      "AC 1\n",
      "False\n",
      "CA 1\n",
      "True\n",
      "4\n"
     ]
    }
   ],
   "source": [
    "#Задача F. Инопланетный геном\n",
    "a = input()\n",
    "temp = {}\n",
    "for i in range(len(a)-1):\n",
    "    gen = a[i:i+2]\n",
    "    if gen in temp:\n",
    "        temp[gen] += 1\n",
    "    else:\n",
    "        temp[gen] = 1\n",
    "a = temp\n",
    "\n",
    "b = input()\n",
    "temp = set()\n",
    "for i in range(len(b)-1):\n",
    "    temp.add(b[i:i+2])\n",
    "b = temp\n",
    "\n",
    "answer = 0\n",
    "for gen, amount in a.items():\n",
    "    if gen in b:\n",
    "        answer += amount\n",
    "print(answer)"
   ]
  },
  {
   "cell_type": "code",
   "execution_count": 46,
   "id": "deab596c",
   "metadata": {
    "collapsed": true
   },
   "outputs": [
    {
     "name": "stdout",
     "output_type": "stream",
     "text": [
      "1\n",
      "1 0\n",
      "0\n"
     ]
    }
   ],
   "source": [
    "#Задача G. Черепахи\n",
    "amount = int(input())\n",
    "turtles = {tuple(map(int, input().split())) for _ in range(amount)}\n",
    "result = 0\n",
    "for x, y in turtles:\n",
    "    if x + y == amount - 1 and x >= 0 and y >= 0:\n",
    "        result += 1\n",
    "print(result)"
   ]
  },
  {
   "cell_type": "code",
   "execution_count": 49,
   "id": "e91f15e8",
   "metadata": {
    "collapsed": true
   },
   "outputs": [
    {
     "name": "stdout",
     "output_type": "stream",
     "text": [
      "6\n",
      "1 1\n",
      "2 2\n",
      "3 3\n",
      "2 1\n",
      "3 2\n",
      "3 4\n",
      "3\n"
     ]
    }
   ],
   "source": [
    "#Задача H. Злые свинки\n",
    "print(len({int(input().split()[0]) for _ in range(int(input()))}))"
   ]
  },
  {
   "cell_type": "code",
   "execution_count": 55,
   "id": "d4effea2",
   "metadata": {
    "collapsed": true
   },
   "outputs": [
    {
     "name": "stdout",
     "output_type": "stream",
     "text": [
      "3\n",
      "3\n",
      "Russian\n",
      "English\n",
      "Japanese\n",
      "2\n",
      "Russian\n",
      "English\n",
      "1\n",
      "English\n",
      "1\n",
      "English\n",
      "3\n",
      "Japanese\n",
      "English\n",
      "Russian\n"
     ]
    }
   ],
   "source": [
    "#Задача I. Полиглоты\n",
    "from functools import reduce\n",
    "\n",
    "students = [{input() for _ in range(int(input()))}for _ in range(int(input()))]\n",
    "temp = reduce(lambda x, y: x.intersection(y), students)\n",
    "print(len(temp), *temp, sep='\\n')\n",
    "temp = reduce(lambda x, y: x.union(y), students)\n",
    "print(len(temp), *temp, sep='\\n')"
   ]
  },
  {
   "cell_type": "code",
   "execution_count": 26,
   "id": "2c9e99d8",
   "metadata": {},
   "outputs": [
    {
     "name": "stdout",
     "output_type": "stream",
     "text": [
      "1 10 1\n",
      "0 0\n",
      "5\n",
      "0 1\n",
      "0 0\n",
      "-1 0\n",
      "1 0\n",
      "0 -1\n"
     ]
    }
   ],
   "source": [
    "#Задача J. Пробежки по Манхэттену\n",
    "def common_points(a, b):\n",
    "    points = set()\n",
    "    for i in range(-t, t+1):\n",
    "        for j in range(-t, t+1):\n",
    "            if abs(i) + abs(j) <= t and abs(a[0] + i - b[0]) + abs(a[1] + j - b[1]) <= d:\n",
    "                points.add((a[0] + i, a[1] + j))\n",
    "    return points\n",
    "\n",
    "t, d, n = map(int, input().split())\n",
    "cords = [tuple(map(int, input().split())) for _ in range(n)]\n",
    "result = common_points((0, 0), cords[0])\n",
    "for cord in cords[1:]:\n",
    "    temp = set()\n",
    "    for point in result:\n",
    "        temp.update(common_points(point, cord))\n",
    "    result = temp\n",
    "print(len(result))\n",
    "for point in result:\n",
    "    print(*point)"
   ]
  },
  {
   "cell_type": "code",
   "execution_count": 12,
   "id": "85e95209",
   "metadata": {},
   "outputs": [],
   "source": [
    "?set.intersection"
   ]
  }
 ],
 "metadata": {
  "kernelspec": {
   "display_name": "Python 3 (ipykernel)",
   "language": "python",
   "name": "python3"
  },
  "language_info": {
   "codemirror_mode": {
    "name": "ipython",
    "version": 3
   },
   "file_extension": ".py",
   "mimetype": "text/x-python",
   "name": "python",
   "nbconvert_exporter": "python",
   "pygments_lexer": "ipython3",
   "version": "3.10.6"
  }
 },
 "nbformat": 4,
 "nbformat_minor": 5
}
