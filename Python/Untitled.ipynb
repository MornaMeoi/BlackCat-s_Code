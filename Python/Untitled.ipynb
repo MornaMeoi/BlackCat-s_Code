{
 "cells": [
  {
   "cell_type": "code",
   "execution_count": 2,
   "id": "de38fb6b",
   "metadata": {},
   "outputs": [
    {
     "name": "stdout",
     "output_type": "stream",
     "text": [
      "5039.460151460512\n",
      "851 14883\n"
     ]
    }
   ],
   "source": [
    "nums = []\n",
    "with open('17.txt', 'r') as inp:\n",
    "    nums = [int(i) for i in inp.readlines()]\n",
    "res = counter = 0\n",
    "for num in nums:\n",
    "    if num % 2 == 1:\n",
    "        res += num\n",
    "        counter += 1\n",
    "avg = res/counter\n",
    "counter = res = 0\n",
    "print(avg)\n",
    "for i, x in enumerate(nums[:-1]):\n",
    "    if (x % 5 == 0 or nums[i+1] == 0) and (x < avg or nums[i+1] < avg):\n",
    "        counter += 1\n",
    "        res = max(res, x + nums[i+1])\n",
    "print(counter, res)"
   ]
  },
  {
   "cell_type": "code",
   "execution_count": 3,
   "id": "6176e26d",
   "metadata": {},
   "outputs": [
    {
     "name": "stdout",
     "output_type": "stream",
     "text": [
      "60\n"
     ]
    }
   ],
   "source": [
    "def foo(a, n):\n",
    "    if a == n:\n",
    "        return 1\n",
    "    elif a > n:\n",
    "        return 0\n",
    "    else:\n",
    "        return foo(a+1, n) + foo(a+2, n) + foo(a*3, n)\n",
    "\n",
    "print(foo(2,8) * foo(8,10) * foo(10,12))"
   ]
  },
  {
   "cell_type": "code",
   "execution_count": 4,
   "id": "d317874c",
   "metadata": {},
   "outputs": [
    {
     "name": "stdout",
     "output_type": "stream",
     "text": [
      "13\n"
     ]
    }
   ],
   "source": [
    "with open('24.txt', 'r') as inp:\n",
    "    counter = res = temp = 0\n",
    "    for x in inp.readline():\n",
    "        if x == 'X' and temp == 0:\n",
    "            counter += 1\n",
    "            temp += 1\n",
    "        elif x == 'Y' and temp == 1:\n",
    "            counter += 1\n",
    "            temp += 1\n",
    "        elif x == 'Z' and temp == 2:\n",
    "            counter += 1\n",
    "            temp = 0\n",
    "        else:\n",
    "            res = max(counter, res)\n",
    "            counter = 0\n",
    "            temp = 0\n",
    "    print(res)"
   ]
  },
  {
   "cell_type": "code",
   "execution_count": null,
   "id": "f7d02dcd",
   "metadata": {},
   "outputs": [],
   "source": [
    "import math\n",
    "def is_prime(n):\n",
    "    for i in range(2,int(math.sqrt(n))+1):\n",
    "        if n%i == 0:\n",
    "            return False\n",
    "    return True\n",
    "primes = []\n",
    "for i in range(3, 10000, 2):\n",
    "    if is_prime(i):\n",
    "        primes.append(i)\n",
    "print('Done')\n",
    "\n",
    "for num in range(45000000, 50000001):\n",
    "    temp = num\n",
    "    counter = 2 if is_prime(num) else 1\n",
    "    for div in primes:\n",
    "        if temp % div == 0:\n",
    "            temp /= div\n",
    "            counter += 1\n",
    "            if counter > 5 or temp == 1:\n",
    "                break\n",
    "    if counter == 5:\n",
    "        print(num)"
   ]
  },
  {
   "cell_type": "code",
   "execution_count": 21,
   "id": "d1be5574",
   "metadata": {},
   "outputs": [
    {
     "name": "stdout",
     "output_type": "stream",
     "text": [
      "14 679730035.0\n"
     ]
    }
   ],
   "source": [
    "nums = []\n",
    "with open('26.txt', 'r') as inp:\n",
    "    nums = [int(i) for i in inp.readlines()[1:]]\n",
    "counter = res = 0\n",
    "for i, x in enumerate(nums[:-1]):\n",
    "    for j, y in enumerate(nums[i+1:]):\n",
    "        if x % 2 == 1 and y % 2 == 1:\n",
    "            val = (y + x) / 2\n",
    "            if val in nums:\n",
    "                counter += 1\n",
    "                res = max(res, val)\n",
    "print(counter, res)"
   ]
  },
  {
   "cell_type": "code",
   "execution_count": 24,
   "id": "91bbaef8",
   "metadata": {},
   "outputs": [
    {
     "name": "stdout",
     "output_type": "stream",
     "text": [
      "236992 989030\n"
     ]
    }
   ],
   "source": [
    "def foo(file):\n",
    "    nums = []\n",
    "    with open(file, 'r') as inp:\n",
    "        nums = sorted([int(i) for i in inp.readlines()[1:]], reverse=True)\n",
    "    for i, x in enumerate(nums):\n",
    "        mul = x * nums[i+1]\n",
    "        if mul % 14 == 0:\n",
    "            return mul\n",
    "        \n",
    "print(foo('27_A.txt'), foo('27_B.txt'))"
   ]
  },
  {
   "cell_type": "code",
   "execution_count": 15,
   "id": "43149393",
   "metadata": {},
   "outputs": [
    {
     "name": "stdout",
     "output_type": "stream",
     "text": [
      "[-18, 12, 3, 0]\n",
      "[-18, 12, 3, 0]\n",
      "12 -18\n",
      "[1, 0]\n"
     ]
    }
   ],
   "source": [
    "nums = [-18,12,3,0]\n",
    "target = -6\n",
    "print(nums)\n",
    "\n",
    "hashSet = set(nums)\n",
    "first = second = 0\n",
    "for num in hashSet:\n",
    "    if target - num in hashSet:\n",
    "        first = num\n",
    "        second = target - num\n",
    "        break\n",
    "first_flag, second_flag = True, True\n",
    "for i, num in enumerate(nums):\n",
    "    if first_flag and num == first:\n",
    "        first = i\n",
    "        first_flag = False\n",
    "    elif second_flag and num == second:\n",
    "        second = i\n",
    "        second_flag = False\n",
    "print([first, second])"
   ]
  }
 ],
 "metadata": {
  "kernelspec": {
   "display_name": "Python 3 (ipykernel)",
   "language": "python",
   "name": "python3"
  },
  "language_info": {
   "codemirror_mode": {
    "name": "ipython",
    "version": 3
   },
   "file_extension": ".py",
   "mimetype": "text/x-python",
   "name": "python",
   "nbconvert_exporter": "python",
   "pygments_lexer": "ipython3",
   "version": "3.10.6"
  }
 },
 "nbformat": 4,
 "nbformat_minor": 5
}
