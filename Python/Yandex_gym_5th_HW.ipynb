{
 "cells": [
  {
   "cell_type": "code",
   "execution_count": 26,
   "id": "7aa58add",
   "metadata": {
    "collapsed": true
   },
   "outputs": [
    {
     "name": "stdout",
     "output_type": "stream",
     "text": [
      "5\n",
      "1 2 3 4 5\n",
      "5\n",
      "1 2 3 4 5\n",
      "1 1\n"
     ]
    }
   ],
   "source": [
    "#Задача A. Стильная одежда\n",
    "N = int(input())\n",
    "shirts = tuple(map(int, input().split()))\n",
    "M = int(input())\n",
    "pants = tuple(map(int, input().split()))\n",
    "\n",
    "best_pair, best_diff = (shirts[0], pants[0]), abs(shirts[0] - pants[0])\n",
    "first, second = 0, 0\n",
    "for _ in range(M+N-2):\n",
    "    if first != N-1 and (second == M-1 or \n",
    "                       abs(shirts[first+1] - pants[second]) < abs(shirts[first] - pants[second+1])):\n",
    "        first += 1\n",
    "    else:\n",
    "        second += 1\n",
    "    current_diff = abs(shirts[first] - pants[second])\n",
    "    if current_diff < best_diff:\n",
    "        best_diff = current_diff\n",
    "        best_pair = (shirts[first], pants[second])\n",
    "print(*best_pair)"
   ]
  },
  {
   "cell_type": "code",
   "execution_count": 9,
   "id": "e6f1726c",
   "metadata": {},
   "outputs": [
    {
     "name": "stdout",
     "output_type": "stream",
     "text": [
      "5 10\n",
      "1 2 3 4 1\n",
      "2\n"
     ]
    }
   ],
   "source": [
    "#Задача B. Сумма номеров\n",
    "N, K = map(int, input().split())\n",
    "nums = list(map(int, input().split()))\n",
    "result = last = current_sum = 0\n",
    "for first in range(N):\n",
    "    while current_sum < K and last != N:\n",
    "        current_sum += nums[last]\n",
    "        last += 1\n",
    "    result += int(current_sum == K)\n",
    "    current_sum -= nums[first]\n",
    "print(result)"
   ]
  },
  {
   "cell_type": "code",
   "execution_count": 28,
   "id": "88e6396b",
   "metadata": {
    "collapsed": true
   },
   "outputs": [
    {
     "name": "stdout",
     "output_type": "stream",
     "text": [
      "0\n",
      "5\n",
      "4\n"
     ]
    }
   ],
   "source": [
    "#Задача C. Туризм\n",
    "with open('input.txt') as inp:\n",
    "    N = int(inp.readline().strip())\n",
    "    points = [int(inp.readline().strip().split()[1]) for _ in range(N)]\n",
    "    sum_points = [0] * N\n",
    "    sum_reversed_points = sum_points.copy()\n",
    "    for i in range(N-1):\n",
    "        temp = points[i+1] - points[i] if points[i+1] > points[i] else 0\n",
    "        sum_points[i+1] = sum_points[i] + temp\n",
    "        temp = points[-i-2] - points[-i-1] if points[-i-2] > points[-i-1] else 0\n",
    "        sum_reversed_points[-i-2] = sum_reversed_points[-i-1] + temp\n",
    "    N = int(inp.readline().strip())\n",
    "    for _ in range(N):\n",
    "        a, b = map(int, inp.readline().strip().split())\n",
    "        if b > a:\n",
    "            print(sum_points[b-1] - sum_points[a-1])\n",
    "        else:\n",
    "            print(sum_reversed_points[b-1] - sum_reversed_points[a-1])"
   ]
  },
  {
   "cell_type": "code",
   "execution_count": 32,
   "id": "6dd3f73d",
   "metadata": {
    "collapsed": true
   },
   "outputs": [
    {
     "name": "stdout",
     "output_type": "stream",
     "text": [
      "4 4\n",
      "1 3 5 8\n",
      "2\n"
     ]
    }
   ],
   "source": [
    "#Задача D. Город Че\n",
    "n, r = map(int, input().split())\n",
    "sights = tuple(map(int, input().split()))\n",
    "result = last = 0\n",
    "for first in range(n):\n",
    "    if last == n:\n",
    "        break\n",
    "    while last != n and sights[last] - sights[first] <= r:\n",
    "        last += 1\n",
    "    result += n - last\n",
    "print(result)"
   ]
  },
  {
   "cell_type": "code",
   "execution_count": 42,
   "id": "4d576618",
   "metadata": {
    "collapsed": true
   },
   "outputs": [
    {
     "name": "stdout",
     "output_type": "stream",
     "text": [
      "6 4\n",
      "2 4 2 3 3 1\n",
      "2 6\n"
     ]
    }
   ],
   "source": [
    "#Задача E. Красота превыше всего\n",
    "N, K = map(int, input().split())\n",
    "trees = tuple(map(int, input().split()))\n",
    "tree_types = {i: 0 for i in range(1, K+1)}\n",
    "result, last = (0, N-1), 0\n",
    "for first in range(N):\n",
    "    while last != N and K != 0:\n",
    "        tree_types[trees[last]] += 1\n",
    "        K = K - 1 if tree_types[trees[last]] == 1 else K\n",
    "        last += 1\n",
    "    result = (first, last-1) if K == 0 and last - 1 - first < result[1] - result[0] else result\n",
    "    tree_types[trees[first]] -= 1\n",
    "    K = K + 1 if tree_types[trees[first]] == 0 else K\n",
    "print(result[0] + 1, result[1] + 1)"
   ]
  },
  {
   "cell_type": "code",
   "execution_count": 56,
   "id": "69044ef9",
   "metadata": {
    "collapsed": true
   },
   "outputs": [
    {
     "name": "stdout",
     "output_type": "stream",
     "text": [
      "13\n"
     ]
    }
   ],
   "source": [
    "#Задача F. Кондиционеры\n",
    "with open('input.txt') as inp:\n",
    "    n = int(inp.readline().strip())\n",
    "    classes = list(map(int, inp.readline().strip().split()))\n",
    "    m = int(inp.readline().strip())\n",
    "    splits = [tuple(map(int, inp.readline().strip().split())) for _ in range(m)]\n",
    "    \n",
    "    classes.sort()\n",
    "    splits.sort(key=lambda x: x[1])\n",
    "\n",
    "    result = j = 0\n",
    "    for i in range(n):\n",
    "        while splits[j][0] < classes[i]:\n",
    "            j += 1\n",
    "        result += splits[j][1]\n",
    "    print(result)"
   ]
  },
  {
   "cell_type": "code",
   "execution_count": 86,
   "id": "22e05bfa",
   "metadata": {
    "collapsed": true
   },
   "outputs": [
    {
     "name": "stdout",
     "output_type": "stream",
     "text": [
      "5 2\n",
      "1 1 2 2 3\n",
      "9\n"
     ]
    }
   ],
   "source": [
    "#Задача G. Счет в гипершашках\n",
    "n, k = map(int, input().split())\n",
    "cards = list(map(int, input().split()))\n",
    "cards.sort()\n",
    "deck = {}\n",
    "\n",
    "result = 0\n",
    "for i in range(2, n):\n",
    "    if cards[i] / cards[i-2] <= k:\n",
    "        result += 3\n",
    "print(result)"
   ]
  },
  {
   "cell_type": "code",
   "execution_count": 29,
   "id": "ff39dbf4",
   "metadata": {
    "collapsed": true
   },
   "outputs": [
    {
     "name": "stdout",
     "output_type": "stream",
     "text": [
      "5 2\n",
      "ababa\n",
      "4 1\n"
     ]
    }
   ],
   "source": [
    "#Задача H. Подстрока\n",
    "n, k = map(int, input().split())\n",
    "string = input()\n",
    "\n",
    "symbs_count = {}\n",
    "result, first = (0, 0), 0\n",
    "for last in range(n):\n",
    "    if string[last] not in symbs_count:\n",
    "        symbs_count[string[last]] = 0\n",
    "    symbs_count[string[last]] += 1\n",
    "    if symbs_count[string[last]] <= k:\n",
    "        result = (first, last) if last - first > result[1] - result[0] else result\n",
    "    else:\n",
    "        while symbs_count[string[last]] > k and first != last:\n",
    "            symbs_count[string[first]] -= 1\n",
    "            first += 1\n",
    "print(result[1] - result[0] + 1, result[0] + 1)"
   ]
  },
  {
   "cell_type": "code",
   "execution_count": 65,
   "id": "a4a2ae03",
   "metadata": {},
   "outputs": [
    {
     "name": "stdout",
     "output_type": "stream",
     "text": [
      "5\n"
     ]
    }
   ],
   "source": [
    "#Задача J. Треугольники\n",
    "with open('input.txt') as inp:\n",
    "    n = int(inp.readline().strip())\n",
    "    points = [tuple(map(int, inp.readline().strip().split())) for _ in range(n)]\n",
    "    search_points = frozenset(points)\n",
    "\n",
    "    triangles = set()\n",
    "    for first in range(n):\n",
    "        for second in range(n):\n",
    "            if first == second:\n",
    "                continue\n",
    "\n",
    "            x = points[second][0] - points[first][0]\n",
    "            y = points[second][1] - points[first][1]\n",
    "            guesses = []\n",
    "            guesses.append((points[first][0] - x, points[first][1] + y))\n",
    "            guesses.append((points[first][0] + x, points[first][1] - y))\n",
    "            guesses.append((points[first][0] + y, points[first][1] + x))\n",
    "            guesses.append((points[first][0] - y, points[first][1] + x))\n",
    "            guesses.append((points[first][0] + y, points[first][1] - x))\n",
    "            guesses.append((points[first][0] - y, points[first][1] - x))\n",
    "            for point in guesses:\n",
    "                if point in search_points and point != points[second]:\n",
    "                    triangles.add(tuple(sorted((points[first], points[second], point))))\n",
    "print(len(triangles))"
   ]
  },
  {
   "cell_type": "code",
   "execution_count": 36,
   "id": "3e620855",
   "metadata": {},
   "outputs": [],
   "source": [
    "?sorted"
   ]
  }
 ],
 "metadata": {
  "kernelspec": {
   "display_name": "Python 3 (ipykernel)",
   "language": "python",
   "name": "python3"
  },
  "language_info": {
   "codemirror_mode": {
    "name": "ipython",
    "version": 3
   },
   "file_extension": ".py",
   "mimetype": "text/x-python",
   "name": "python",
   "nbconvert_exporter": "python",
   "pygments_lexer": "ipython3",
   "version": "3.10.6"
  }
 },
 "nbformat": 4,
 "nbformat_minor": 5
}
