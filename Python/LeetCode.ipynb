{
 "cells": [
  {
   "cell_type": "code",
   "execution_count": 26,
   "id": "eb5afbf3",
   "metadata": {},
   "outputs": [
    {
     "data": {
      "text/plain": [
       "1"
      ]
     },
     "execution_count": 26,
     "metadata": {},
     "output_type": "execute_result"
    }
   ],
   "source": [
    "#task_3 UNDONE\n",
    "from collections import Counter\n",
    "def lengthOfLongestSubstring(s):\n",
    "    result = 0\n",
    "    symb, amount = max(Counter(s).items(), key=lambda x: x[1])\n",
    "    nex, pre = s.find(symb), 0\n",
    "    for _ in range(amount):\n",
    "        sub_str = s[pre:nex]\n",
    "        length = len(sub_str)\n",
    "        if length != 0:\n",
    "            if max(Counter(sub_str).values()) == 1 and length > result:\n",
    "                result = length\n",
    "        pre = nex\n",
    "        nex = s[nex+1:].find(symb)\n",
    "        \n",
    "    return result\n",
    "\n",
    "lengthOfLongestSubstring(\"abcabcbb\")"
   ]
  },
  {
   "cell_type": "code",
   "execution_count": 29,
   "id": "424e408b",
   "metadata": {},
   "outputs": [
    {
     "name": "stdout",
     "output_type": "stream",
     "text": [
      "MCMXCIV\n"
     ]
    }
   ],
   "source": [
    "#task_12 DONE\n",
    "def intToRoman(num):\n",
    "    result = ''\n",
    "    if num // 1000 > 0:\n",
    "        result += 'M' * (num // 1000)\n",
    "        num -= 1000 * (num // 1000)\n",
    "    if num // 900 > 0:\n",
    "        result += 'CM'\n",
    "        num -= 900\n",
    "    if num // 500 > 0:\n",
    "        result += 'D'\n",
    "        num -= 500\n",
    "    if num // 400 > 0:\n",
    "        result += 'CD'\n",
    "        num -= 400\n",
    "    if num // 100 > 0:\n",
    "        result += 'C' * (num // 100)\n",
    "        num -= 100 * (num // 100)\n",
    "    if num // 90 > 0:\n",
    "        result += 'XC'\n",
    "        num -= 90\n",
    "    if num // 50 > 0:\n",
    "        result += 'L'\n",
    "        num -= 50\n",
    "    if num // 40 > 0:\n",
    "        result += 'XL'\n",
    "        num -= 40\n",
    "    if num // 10 > 0:\n",
    "        result += 'X' * (num // 10)\n",
    "        num -= 10 * (num // 10)\n",
    "    if num // 9 > 0:\n",
    "        result += 'IX'\n",
    "        num -= 9\n",
    "    if num // 5 > 0:\n",
    "        result += 'V'\n",
    "        num -= 5\n",
    "    if num // 4 > 0:\n",
    "        result += 'IV'\n",
    "        num -= 4\n",
    "    result += 'I' * num\n",
    "    return result\n",
    "\n",
    "print(intToRoman(1994))"
   ]
  },
  {
   "cell_type": "code",
   "execution_count": 32,
   "id": "c8a8e09a",
   "metadata": {},
   "outputs": [
    {
     "name": "stdout",
     "output_type": "stream",
     "text": [
      "right\n"
     ]
    },
    {
     "data": {
      "text/plain": [
       "4"
      ]
     },
     "execution_count": 32,
     "metadata": {},
     "output_type": "execute_result"
    }
   ],
   "source": [
    "#task_704, bin_search\n",
    "def search(nums, target):\n",
    "    l, r = 0, len(nums) - 1\n",
    "    while l <= r:\n",
    "        mid = (l + r) // 2\n",
    "        midVal = nums[mid]\n",
    "        if target < midVal:\n",
    "            r = mid - 1\n",
    "        elif midVal < target:\n",
    "            l = mid + 1\n",
    "        else:\n",
    "            return mid\n",
    "    return -1\n",
    "\n",
    "nums = [-1,0,3,5,9,12]\n",
    "target = 9\n",
    "search(nums, target)"
   ]
  },
  {
   "cell_type": "code",
   "execution_count": 63,
   "id": "9b4fd65c",
   "metadata": {},
   "outputs": [
    {
     "data": {
      "text/plain": [
       "2.0"
      ]
     },
     "execution_count": 63,
     "metadata": {},
     "output_type": "execute_result"
    }
   ],
   "source": [
    "#tasl_4\n",
    "from numpy import median\n",
    "def findMedianSortedArrays(nums1, nums2):\n",
    "    return np.median(nums1+nums2)\n",
    "\n",
    "l1, l2 = [1,3], [2]\n",
    "findMedianSortedArrays(l1, l2)"
   ]
  },
  {
   "cell_type": "code",
   "execution_count": 51,
   "id": "5089c63e",
   "metadata": {},
   "outputs": [
    {
     "ename": "IndexError",
     "evalue": "list index out of range",
     "output_type": "error",
     "traceback": [
      "\u001b[0;31m---------------------------------------------------------------------------\u001b[0m",
      "\u001b[0;31mIndexError\u001b[0m                                Traceback (most recent call last)",
      "Input \u001b[0;32mIn [51]\u001b[0m, in \u001b[0;36m<cell line: 57>\u001b[0;34m()\u001b[0m\n\u001b[1;32m     40\u001b[0m c \u001b[38;5;241m=\u001b[39m [\u001b[38;5;28;01mFalse\u001b[39;00m,\u001b[38;5;28;01mFalse\u001b[39;00m,\u001b[38;5;28;01mTrue\u001b[39;00m,\u001b[38;5;28;01mFalse\u001b[39;00m,\u001b[38;5;28;01mTrue\u001b[39;00m,\u001b[38;5;28;01mTrue\u001b[39;00m,\u001b[38;5;28;01mFalse\u001b[39;00m]\n\u001b[1;32m     41\u001b[0m \u001b[38;5;124;03m'''#testcase2\u001b[39;00m\n\u001b[1;32m     42\u001b[0m \u001b[38;5;124;03ma = 7\u001b[39;00m\n\u001b[1;32m     43\u001b[0m \u001b[38;5;124;03mb = [[0,1],[0,2],[1,4],[1,5],[2,3],[2,6]]\u001b[39;00m\n\u001b[0;32m   (...)\u001b[0m\n\u001b[1;32m     55\u001b[0m \u001b[38;5;124;03mb = [[0,2],[0,3],[1,2]]\u001b[39;00m\n\u001b[1;32m     56\u001b[0m \u001b[38;5;124;03mc = [False,True,False,False]'''\u001b[39;00m\n\u001b[0;32m---> 57\u001b[0m \u001b[38;5;28mprint\u001b[39m(\u001b[43mminTime\u001b[49m\u001b[43m(\u001b[49m\u001b[43ma\u001b[49m\u001b[43m,\u001b[49m\u001b[43m \u001b[49m\u001b[43mb\u001b[49m\u001b[43m,\u001b[49m\u001b[43m \u001b[49m\u001b[43mc\u001b[49m\u001b[43m)\u001b[49m)\n",
      "Input \u001b[0;32mIn [51]\u001b[0m, in \u001b[0;36mminTime\u001b[0;34m(n, edges, hasApple)\u001b[0m\n\u001b[1;32m     24\u001b[0m \u001b[38;5;28;01melse\u001b[39;00m:\n\u001b[1;32m     25\u001b[0m     \u001b[38;5;28;01mfor\u001b[39;00m x \u001b[38;5;129;01min\u001b[39;00m tree[current]:\n\u001b[0;32m---> 26\u001b[0m         \u001b[38;5;28;01mif\u001b[39;00m x \u001b[38;5;129;01mnot\u001b[39;00m \u001b[38;5;129;01min\u001b[39;00m \u001b[43mroutes\u001b[49m\u001b[43m[\u001b[49m\u001b[38;5;241;43m-\u001b[39;49m\u001b[38;5;241;43m1\u001b[39;49m\u001b[43m]\u001b[49m:\n\u001b[1;32m     27\u001b[0m             previous \u001b[38;5;241m=\u001b[39m current\n\u001b[1;32m     28\u001b[0m             current \u001b[38;5;241m=\u001b[39m x\n",
      "\u001b[0;31mIndexError\u001b[0m: list index out of range"
     ]
    }
   ],
   "source": [
    "#task_1443\n",
    "def minTime(n, edges, hasApple):\n",
    "    tree = {}\n",
    "    for el in edges:\n",
    "        for i in 0, 1:\n",
    "            if el[i] in tree:\n",
    "                tree[el[i]].append(el[i-1])\n",
    "            else:\n",
    "                tree[el[i]] = [el[i-1]]\n",
    "    current, previous = 0, 0\n",
    "    route, routes = set(), []\n",
    "    hasApple[0] = False\n",
    "    while any(hasApple):\n",
    "        if len(tree[current]) == 1 and current != 0:\n",
    "            if hasApple[current]:\n",
    "                hasApple[current] = False\n",
    "                routes.append(route)\n",
    "                route = set()\n",
    "            elif current in route:\n",
    "                route.remove(current)\n",
    "            previous = current\n",
    "            current = tree[current][0]\n",
    "            tree.pop(previous)\n",
    "            tree[current].remove(previous)\n",
    "        else:\n",
    "            for x in tree[current]:\n",
    "                if x not in route:\n",
    "                    previous = current\n",
    "                    current = x\n",
    "                    route.add(current)\n",
    "                    break\n",
    "        print(current, routes)\n",
    "    result = 0\n",
    "    for x in routes:\n",
    "        result += len(x)\n",
    "    return result * 2\n",
    "\n",
    "#testcase1\n",
    "a = 7\n",
    "b = [[0,1],[0,2],[1,4],[1,5],[2,3],[2,6]]\n",
    "c = [False,False,True,False,True,True,False]\n",
    "'''#testcase2\n",
    "a = 7\n",
    "b = [[0,1],[0,2],[1,4],[1,5],[2,3],[2,6]]\n",
    "c = [False,False,True,False,False,True,False]\n",
    "#testcase3\n",
    "a = 7\n",
    "b = [[0,1],[0,2],[1,4],[1,5],[2,3],[2,6]]\n",
    "c = [False,False,False,False,False,False,False]\n",
    "#testcase4\n",
    "a = 4\n",
    "b = [[0,1],[0,2],[1,3]]\n",
    "c = [True,True,True,True]\n",
    "#testcase5\n",
    "a = 4\n",
    "b = [[0,2],[0,3],[1,2]]\n",
    "c = [False,True,False,False]'''\n",
    "print(minTime(a, b, c))"
   ]
  },
  {
   "cell_type": "code",
   "execution_count": 59,
   "id": "709e0e23",
   "metadata": {},
   "outputs": [
    {
     "name": "stdout",
     "output_type": "stream",
     "text": [
      "a\n"
     ]
    }
   ],
   "source": [
    "#task_14\n",
    "def longestCommonPrefix(strs):\n",
    "    result = ''\n",
    "    for i in range(1, len(strs[0]) + 1):\n",
    "        if all(map(lambda x: x.startswith(strs[0][:i]), strs)):\n",
    "            result = strs[0][:i]\n",
    "        else:\n",
    "            break\n",
    "    return result\n",
    "\n",
    "strs = [\"a\"]\n",
    "print(longestCommonPrefix(strs))"
   ]
  },
  {
   "cell_type": "code",
   "execution_count": 4,
   "id": "ce993dff",
   "metadata": {},
   "outputs": [
    {
     "name": "stdout",
     "output_type": "stream",
     "text": [
      "[<class 'list'>]\n"
     ]
    }
   ],
   "source": [
    "#task_1480\n",
    "from numpy import cumsum\n",
    "def runningSum(nums):\n",
    "    return cumsum(nums)"
   ]
  },
  {
   "cell_type": "code",
   "execution_count": 28,
   "id": "093d7c34",
   "metadata": {},
   "outputs": [
    {
     "name": "stdout",
     "output_type": "stream",
     "text": [
      "-1\n"
     ]
    }
   ],
   "source": [
    "#task_724. Find Pivot Index\n",
    "def pivotIndex(nums):\n",
    "    part_sum, nums_sum = 0, sum(nums)\n",
    "    for i in range(len(nums)):\n",
    "        if part_sum == (nums_sum - nums[i]) / 2:\n",
    "            return i\n",
    "        part_sum += nums[i]\n",
    "    return -1"
   ]
  },
  {
   "cell_type": "code",
   "execution_count": 3,
   "id": "fa3e3e16",
   "metadata": {},
   "outputs": [
    {
     "name": "stdout",
     "output_type": "stream",
     "text": [
      "True\n"
     ]
    }
   ],
   "source": [
    "#task_205. Isomorphic Strings\n",
    "def isIsomorphic(s: str, t: str) -> bool:\n",
    "    uniq = set(s)\n",
    "    for symb in uniq:\n",
    "        idx = s.find(symb)\n",
    "        t = t.replace(t[idx], symb)\n",
    "    return t == s\n",
    "\n",
    "s = \"paper\"\n",
    "t = \"title\"\n",
    "print(isIsomorphic(s, t))"
   ]
  },
  {
   "cell_type": "code",
   "execution_count": 82,
   "id": "bc5bd584",
   "metadata": {
    "scrolled": false
   },
   "outputs": [
    {
     "name": "stdout",
     "output_type": "stream",
     "text": [
      "b\n",
      "a\n",
      "a\n",
      "b\n",
      "True\n"
     ]
    }
   ],
   "source": [
    "#task_392. Is Subsequence\n",
    "def isSubsequence(s, t):\n",
    "    symb_counter, s_len = 0, len(s)\n",
    "    for symb in t:\n",
    "        print(symb)\n",
    "        if symb_counter == s_len:\n",
    "            break\n",
    "        elif symb == s[symb_counter]:\n",
    "            symb_counter += 1\n",
    "    return symb_counter == s_len\n",
    "\n",
    "s = \"ab\"\n",
    "t = \"baab\"\n",
    "print(isSubsequence(s, t))"
   ]
  },
  {
   "cell_type": "code",
   "execution_count": 12,
   "id": "aeefab6c",
   "metadata": {},
   "outputs": [
    {
     "name": "stdout",
     "output_type": "stream",
     "text": [
      "5\n"
     ]
    }
   ],
   "source": [
    "#121. Best Time to Buy and Sell Stock\n",
    "def maxProfit(prices):\n",
    "    from array import array\n",
    "    prices = array('H', prices)\n",
    "    diffs = array('H')\n",
    "    for i, arg in enumerate(prices):\n",
    "        diffs.append(max(prices[i:]) - arg)\n",
    "    return max(diffs)\n",
    "\n",
    "l = [7,1,5,3,6,4]\n",
    "print(maxProfit(l))"
   ]
  },
  {
   "cell_type": "code",
   "execution_count": 35,
   "id": "fc074ae8",
   "metadata": {},
   "outputs": [
    {
     "name": "stdout",
     "output_type": "stream",
     "text": [
      "7\n"
     ]
    }
   ],
   "source": [
    "from collections import Counter\n",
    "def longestPalindrome(s: str) -> int:\n",
    "    c, result = Counter(s), 0\n",
    "    odd = False\n",
    "    for x in c.values():\n",
    "        if x % 2 == 0:\n",
    "            result += x\n",
    "        else:\n",
    "            result += x - 1\n",
    "            odd = True\n",
    "    return result + odd\n",
    "\n",
    "print(longestPalindrome('abccccdd'))"
   ]
  },
  {
   "cell_type": "code",
   "execution_count": 10,
   "id": "ba5b3efa",
   "metadata": {},
   "outputs": [
    {
     "name": "stdout",
     "output_type": "stream",
     "text": [
      "True\n"
     ]
    }
   ],
   "source": [
    "#202. Happy Number\n",
    "def isHappy(n):\n",
    "    memo = []\n",
    "    while True:\n",
    "        temp = 0\n",
    "        for dig in str(n):\n",
    "            temp += int(dig) ** 2\n",
    "        if temp == 1:\n",
    "            return True\n",
    "        elif temp in memo:\n",
    "            return False\n",
    "        else:\n",
    "            memo.append(temp)\n",
    "            n = temp"
   ]
  },
  {
   "cell_type": "code",
   "execution_count": 126,
   "id": "af9b6d1b",
   "metadata": {},
   "outputs": [
    {
     "name": "stdout",
     "output_type": "stream",
     "text": [
      "[2, 5, 4, -1, 0, 8]\n"
     ]
    }
   ],
   "source": [
    "#54. Spiral Matrix\n",
    "import numpy as np\n",
    "def spiralOrder(matrix):\n",
    "    matrix, result = np.array(matrix, dtype=np.int8), []\n",
    "    bound = min(matrix.shape) // 2\n",
    "    if bound == 0:\n",
    "        result.extend(np.ravel(matrix))\n",
    "    for a in range(bound):\n",
    "        result.extend(matrix[a, a:-a-1])\n",
    "        result.extend(matrix[a:a-1, -a-1])\n",
    "        result.extend(matrix[-a-1, -a-1:a:-1])\n",
    "        result.extend(matrix[a-1:a:-1, a])\n",
    "    if matrix.shape[0] % 2 == matrix.shape[1] % 2 == 1:\n",
    "        if matrix.shape[1] > matrix.shape[0]:\n",
    "            result.extend(matrix[bound, bound:-bound])\n",
    "        else:\n",
    "            result.extend(matrix[bound:-bound, bound])\n",
    "    return result\n",
    "\n",
    "m = [[2,5],\n",
    "     [8,4],\n",
    "     [0,-1]]\n",
    "print(spiralOrder(m))"
   ]
  },
  {
   "cell_type": "code",
   "execution_count": 6,
   "id": "5de96aa9",
   "metadata": {},
   "outputs": [
    {
     "name": "stdout",
     "output_type": "stream",
     "text": [
      "40503005\n",
      "['4', '5', '3', '5', '0', '0', '0', '0']\n"
     ]
    }
   ],
   "source": [
    "#205. Isomorphic Strings\n",
    "def isIsomorphic(s, t):\n",
    "    if len(s) != len(t):\n",
    "        return False\n",
    "    voc = {i:i for i in set(s)}\n",
    "    for i, symb in enumerate(t):\n",
    "        voc[s[i]] = symb\n",
    "    temp = []\n",
    "    for x in s:\n",
    "        temp.append(voc[x])\n",
    "    if len(voc.values()) != len(set(t)):\n",
    "        return False\n",
    "    return t == ''.join(temp)"
   ]
  }
 ],
 "metadata": {
  "kernelspec": {
   "display_name": "Python 3 (ipykernel)",
   "language": "python",
   "name": "python3"
  },
  "language_info": {
   "codemirror_mode": {
    "name": "ipython",
    "version": 3
   },
   "file_extension": ".py",
   "mimetype": "text/x-python",
   "name": "python",
   "nbconvert_exporter": "python",
   "pygments_lexer": "ipython3",
   "version": "3.10.6"
  }
 },
 "nbformat": 4,
 "nbformat_minor": 5
}
