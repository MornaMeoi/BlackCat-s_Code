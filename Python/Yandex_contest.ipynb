{
 "cells": [
  {
   "cell_type": "code",
   "execution_count": 101,
   "id": "1351beb4",
   "metadata": {
    "collapsed": true
   },
   "outputs": [
    {
     "name": "stdout",
     "output_type": "stream",
     "text": [
      "5 1 2 3 4 5\n",
      "4 9 10 11 12\n",
      "5 5 6 7 8 9\n",
      "12\n",
      "1 2 3 4 5 6 7 8 9 10 11 12\n",
      "0:00:00.000446\n"
     ]
    }
   ],
   "source": [
    "#task A\n",
    "#итеративная конкатенация по совпадающей подпоследовательности\n",
    "def smart_concat(a, b):\n",
    "    length = min(len(a), len(b))\n",
    "    for i in range(length + 1):\n",
    "        if a[:length-i] == b[-length+i:]:\n",
    "            return b + a[length-i:]\n",
    "    return b + a\n",
    "\n",
    "#использует smart_concat последовательно на 2-х листах, возвращает кортеж\n",
    "def foo(a, b):\n",
    "    return smart_concat(a, b), smart_concat(b, a)\n",
    "\n",
    "seq = [input().split()[1:] for _ in range(3)]\n",
    "transm = []\n",
    "#вызываем foo, собираем все возможные варианты \"склеек\"\n",
    "for i in range(2):\n",
    "    a = foo(seq[0], seq[1:][i])\n",
    "    transm.extend(foo(a[0], seq[1:][-i-1]))\n",
    "    transm.extend(foo(a[1], seq[1:][-i-1]))\n",
    "result = min(transm, key=lambda x: len(x)) #искомый ответ тот, что с наименьшей длиной\n",
    "print(len(result))\n",
    "print(*result, sep=' ')"
   ]
  },
  {
   "cell_type": "code",
   "execution_count": 1,
   "id": "9c7a9294",
   "metadata": {
    "collapsed": true
   },
   "outputs": [
    {
     "name": "stdout",
     "output_type": "stream",
     "text": [
      "\n"
     ]
    },
    {
     "ename": "ValueError",
     "evalue": "invalid literal for int() with base 10: ''",
     "output_type": "error",
     "traceback": [
      "\u001b[0;31m---------------------------------------------------------------------------\u001b[0m",
      "\u001b[0;31mValueError\u001b[0m                                Traceback (most recent call last)",
      "Input \u001b[0;32mIn [1]\u001b[0m, in \u001b[0;36m<cell line: 16>\u001b[0;34m()\u001b[0m\n\u001b[1;32m     13\u001b[0m             result \u001b[38;5;241m-\u001b[39m\u001b[38;5;241m=\u001b[39m formula[i\u001b[38;5;241m+\u001b[39m\u001b[38;5;241m1\u001b[39m]\n\u001b[1;32m     14\u001b[0m     \u001b[38;5;28;01mreturn\u001b[39;00m result\n\u001b[0;32m---> 16\u001b[0m table \u001b[38;5;241m=\u001b[39m {\u001b[38;5;124mf\u001b[39m\u001b[38;5;124m'\u001b[39m\u001b[38;5;124mC\u001b[39m\u001b[38;5;132;01m{\u001b[39;00mi\u001b[38;5;132;01m}\u001b[39;00m\u001b[38;5;124m'\u001b[39m:\u001b[38;5;28minput\u001b[39m()\u001b[38;5;241m.\u001b[39msplit() \u001b[38;5;28;01mfor\u001b[39;00m i \u001b[38;5;129;01min\u001b[39;00m \u001b[38;5;28mrange\u001b[39m(\u001b[38;5;241m1\u001b[39m, \u001b[38;5;28;43mint\u001b[39;49m\u001b[43m(\u001b[49m\u001b[38;5;28;43minput\u001b[39;49m\u001b[43m(\u001b[49m\u001b[43m)\u001b[49m\u001b[43m)\u001b[49m\u001b[38;5;241m+\u001b[39m\u001b[38;5;241m1\u001b[39m)}\n\u001b[1;32m     17\u001b[0m \u001b[38;5;28;01mfor\u001b[39;00m key, value \u001b[38;5;129;01min\u001b[39;00m table\u001b[38;5;241m.\u001b[39mitems():\n\u001b[1;32m     18\u001b[0m     \u001b[38;5;28;01mif\u001b[39;00m value[\u001b[38;5;241m0\u001b[39m] \u001b[38;5;241m==\u001b[39m \u001b[38;5;124m'\u001b[39m\u001b[38;5;124m1\u001b[39m\u001b[38;5;124m'\u001b[39m:\n",
      "\u001b[0;31mValueError\u001b[0m: invalid literal for int() with base 10: ''"
     ]
    }
   ],
   "source": [
    "#task C\n",
    "def solver(formula):\n",
    "    temp = formula.copy()\n",
    "    for i in range(1, len(formula), 2):\n",
    "        if formula[i] == '*':\n",
    "            temp[i-1:i+2] = [formula[i-1] * formula[i+1]]\n",
    "    formula = temp\n",
    "    result = formula[0]\n",
    "    for i in range(1, len(formula), 2):\n",
    "        if formula[i] == '+':\n",
    "            result += formula[i+1]\n",
    "        elif formula[i] == '-':\n",
    "            result -= formula[i+1]\n",
    "    return result\n",
    "\n",
    "table = {f'C{i}':input().split() for i in range(1, int(input())+1)}\n",
    "for key, value in table.items():\n",
    "    if value[0] == '1':\n",
    "        table[key][1] = int(value[1])\n",
    "        continue\n",
    "    new_value = []\n",
    "    counter = 0\n",
    "    for i in range(len(value[1])):\n",
    "        if value[1][i] == '+' or value[1][i] == '-' or value[1][i] == '*':\n",
    "            new_value.append(value[1][counter:i])\n",
    "            new_value.append(value[1][i])\n",
    "            counter = i + 1\n",
    "    new_value.append(value[1][counter:])\n",
    "    table[key][1] = new_value\n",
    "\n",
    "flag = 0\n",
    "for _ in range(len(table.keys())):\n",
    "    for key, value in table.items():\n",
    "        if value[0] == '2':\n",
    "            for i in range(0, len(value[1]), 2):\n",
    "                flag = 1\n",
    "                if table[value[1][i]][0] == '1':\n",
    "                    table[key][1][i] = table[value[1][i]][1]\n",
    "                else:\n",
    "                    flag = 0\n",
    "                    break\n",
    "            if flag:\n",
    "                table[key][0] = '1'\n",
    "                table[key][1] = solver(value[1])\n",
    "            else:\n",
    "                break\n",
    "\n",
    "if not flag:\n",
    "    print(-1)\n",
    "else:\n",
    "    for x in table.values():\n",
    "        print(x[1])"
   ]
  },
  {
   "cell_type": "code",
   "execution_count": 18,
   "id": "af0e1f66",
   "metadata": {},
   "outputs": [
    {
     "name": "stdout",
     "output_type": "stream",
     "text": [
      "6\n",
      "aaa\n",
      "aaB\n",
      "aBa\n",
      "Baa\n",
      "BBB\n",
      "abb\n",
      "3\n"
     ]
    }
   ],
   "source": [
    "#task D\n",
    "from collections import Counter\n",
    "from math import comb\n",
    "from operator import add\n",
    "from functools import reduce\n",
    "\n",
    "words = [input() for _ in range(int(input()))]\n",
    "pairs = 0\n",
    "for i in range(len(words[0])):\n",
    "    pairs += reduce(add, map(lambda x: comb(x, 2), Counter(map(lambda word: word[:i] + word[i+1:], words)).values()))\n",
    "print(pairs)"
   ]
  },
  {
   "cell_type": "code",
   "execution_count": 2,
   "id": "aa13f305",
   "metadata": {},
   "outputs": [
    {
     "name": "stdout",
     "output_type": "stream",
     "text": [
      "259999995297\n"
     ]
    }
   ],
   "source": [
    "#task_E\n",
    "#Функция перевода из [a-z] в [0-25] и наоборот через Unicode\n",
    "def symb_num(a):\n",
    "    if type(a) == int:\n",
    "        return chr(97 + a)\n",
    "    else:\n",
    "        return ord(a) - 97\n",
    "#Cчитывание входных данных\n",
    "N, K = map(int, input().split())\n",
    "S = input()\n",
    "p, d = list(map(int, input().split())), list(map(int, input().split()))\n",
    "'''#case_1\n",
    "N, K = 3, 7\n",
    "S = 'abz'\n",
    "p, d = [3, 1, 2], [4, 0, 3]\n",
    "#answer = 74\n",
    "#case_2\n",
    "N, K = 4, 6\n",
    "S = 'abcd'\n",
    "p, d = [2, 3, 1, 4], [1, 0, 2, 13]\n",
    "#answer = 62\n",
    "#case_3\n",
    "N, K = 10, 1_000_000_000\n",
    "S = 'qwertzxcvb'\n",
    "p, d = [2, 3, 4, 5, 3, 4, 8, 7, 10, 2], [1, 2, 3, 4, 5, 6, 7, 8, 9, 10]\n",
    "#answer = 259999995297'''\n",
    "\n",
    "result = N\n",
    "m = [0 for _ in p]\n",
    "for i, val in enumerate(S):\n",
    "    uniq = {symb_num(val)} #храним числовые представления разных символов\n",
    "    m[i] += 1\n",
    "    for j in range(K-1):\n",
    "        i = p[i] - 1\n",
    "        m[i] += 1\n",
    "        symb = (symb_num(S[i]) + (m[i] - 1) * d[i]) % 26 # получаем числовое представление\n",
    "        uniq.add(symb)\n",
    "        length = len(uniq)\n",
    "        if length == 26:\n",
    "            result += (K - j - 1) * 26\n",
    "            break\n",
    "        result += length\n",
    "    m = [0 for _ in p]\n",
    "print(result)"
   ]
  },
  {
   "cell_type": "code",
   "execution_count": 4,
   "id": "43d12a02",
   "metadata": {},
   "outputs": [
    {
     "name": "stdout",
     "output_type": "stream",
     "text": [
      "3\n",
      "42 3 14\n",
      "1 3 3\n",
      "4\n",
      "3 14 14 3\n",
      "0\n"
     ]
    }
   ],
   "source": [
    "#task_A\n",
    "input()\n",
    "d = {c: r for c, r in zip(input().split(), input().split())}\n",
    "input()\n",
    "S = input().split()\n",
    "\n",
    "result = 0\n",
    "for i in range(len(S) - 1):\n",
    "    if d[S[i]] != d[S[i+1]]:\n",
    "        result += 1\n",
    "print(result)"
   ]
  },
  {
   "cell_type": "code",
   "execution_count": 17,
   "id": "4c11bdd7",
   "metadata": {},
   "outputs": [
    {
     "name": "stdout",
     "output_type": "stream",
     "text": [
      "4 25 10\n",
      "1 10 42 9\n",
      "0\n",
      "\n"
     ]
    }
   ],
   "source": [
    "#task_B\n",
    "X, T = (int(i) for i in input().split()[1:])\n",
    "a = {}\n",
    "\n",
    "for i, x in enumerate(map(int, input().split())):\n",
    "    diff = abs(x - X)\n",
    "    if diff in a:\n",
    "        a[diff].append(i+1)\n",
    "    else:\n",
    "        a[diff] = [i+1]\n",
    "nums = []\n",
    "for key in sorted(a.keys()):\n",
    "    diff = key * len(a[key])\n",
    "    if diff <= T:\n",
    "        nums.extend(a[key])\n",
    "        T -= diff\n",
    "    else:\n",
    "        nums.extend(a[key][:T//key])\n",
    "        break\n",
    "print(len(nums))\n",
    "print(*nums)"
   ]
  },
  {
   "cell_type": "code",
   "execution_count": 61,
   "id": "e7f6bc71",
   "metadata": {},
   "outputs": [
    {
     "name": "stdout",
     "output_type": "stream",
     "text": [
      "2\n",
      "1 2\n",
      "3 6\n"
     ]
    }
   ],
   "source": [
    "#task_C\n",
    "#input()\n",
    "#s = list(map(int, input().split()))\n",
    "s = [1, 4, 2, 3, 3, 5]\n",
    "\n",
    "a, b, temp = [0, 0], [0, 0], [0, 0]\n",
    "a_diff, b_diff = 0, 0\n",
    "for i in range(len(s)-1):\n",
    "    if s[i] < s[i+1]:\n",
    "        temp[1] = i+1\n",
    "    elif s[i] > s[i+1]:\n",
    "        diff = s[temp[1]] - s[temp[0]]\n",
    "        if a_diff < diff:\n",
    "            a = temp.copy()\n",
    "            a_diff = temp\n",
    "        elif b_diff < diff:\n",
    "            b = temp.copy()\n",
    "            b_diff = diff\n",
    "        temp = [i+1, i+1]\n",
    "    if i == len(s)-2 and b == [0,0] and temp[0] != temp[1]:\n",
    "        b = temp.copy()\n",
    "if b == a == [0, 0]:\n",
    "    print(0)\n",
    "elif b == [0, 0]:\n",
    "    print(1)\n",
    "    print(a[0]+1, a[1]+1)\n",
    "else:\n",
    "    print(2)\n",
    "    if a[0] < b[0]:\n",
    "        print(a[0]+1, a[1]+1)\n",
    "        print(b[0]+1, b[1]+1)\n",
    "    else:\n",
    "        print(b[0]+1, b[1]+1)\n",
    "        print(a[0]+1, a[1]+1)"
   ]
  },
  {
   "cell_type": "code",
   "execution_count": 60,
   "id": "f2ca84a2",
   "metadata": {},
   "outputs": [
    {
     "name": "stdout",
     "output_type": "stream",
     "text": [
      "[5, 5, 5, 5, 5, 5]\n"
     ]
    }
   ],
   "source": [
    "#task_C_2\n",
    "#input()\n",
    "#s = list(map(int, input().split()))\n",
    "s = [5, 1, 2, 2, 4, 5]\n",
    "mins, mins_idxes = s.copy(), [0 for _ in s]\n",
    "maxs, maxs_idxes = s.copy(), [0 for _ in s]\n",
    "length = len(s)\n",
    "for i in range(1, length):\n",
    "    if mins[i-1] < mins[i]:\n",
    "        mins[i] = mins[i-1]\n",
    "        mins_idxes[i] = mins_idxes[i-1]\n",
    "    if maxs[length-1-i] < maxs[length-i]:\n",
    "        maxs[length-1-i] = maxs[length-i]\n",
    "        maxs_idxes[length-1-i] = maxs_idxes[length-i]\n",
    "l_temp = [1]\n",
    "l_temp_idxes = [0]\n",
    "for i in range(1, length):\n",
    "    diff = mins[i] / s[i]\n",
    "    if l_temp[i-1] < diff:\n",
    "        l_temp[i] = diff\n",
    "        l_temp_idxes[i] = i\n",
    "    else:\n",
    "        left[i] = left[i-1]\n",
    "        l_temp_idxes[i] = left_temp_idxes[i-1]"
   ]
  },
  {
   "cell_type": "code",
   "execution_count": 63,
   "id": "618873da",
   "metadata": {},
   "outputs": [
    {
     "name": "stdout",
     "output_type": "stream",
     "text": [
      "[0, 0]\n"
     ]
    }
   ],
   "source": [
    "#task_C_3\n",
    "#input()\n",
    "#s = list(map(int, input().split()))\n",
    "s = [1, 4, 2, 3, 3, 5]\n",
    "\n",
    "idx = [0, 0]\n",
    "vals = [0, 0]\n",
    "max_diff = 0\n",
    "\n",
    "temp_idx = [0, 0]\n",
    "temp_vals = [s[0], s[0]]\n",
    "diff = 0\n",
    "for i, val in enumerate(s):\n",
    "    if val > temp_vals[1]:\n",
    "        temp_vals[1] = val\n",
    "        temp_idx[1] = i\n",
    "    elif val <= temp_vals[0]:\n",
    "        diff = temp_vals[1] - temp_vals[0]\n",
    "        if diff > max_diff:\n",
    "            idx = temp_idx.copy()\n",
    "            vals = temp_vals.copy()\n",
    "            max_diff = diff\n",
    "print(idx)"
   ]
  },
  {
   "cell_type": "code",
   "execution_count": 86,
   "id": "ce880095",
   "metadata": {},
   "outputs": [
    {
     "name": "stdout",
     "output_type": "stream",
     "text": [
      "2 0 2 1 2\n"
     ]
    }
   ],
   "source": [
    "#task_D\n",
    "#input()\n",
    "#a = map(int, input().split())\n",
    "#b = map(int, input().split())\n",
    "#c = map(int, input().split())\n",
    "a = [10, 9]\n",
    "b = [1, 0]\n",
    "c = [0, 1]\n",
    "countries = list(zip(a, b, c))\n",
    "\n",
    "#input()\n",
    "#x = map(int, input().split())\n",
    "#y = map(int, input().split())\n",
    "#z = map(int, input().split())\n",
    "x = [0, 0, 11, 10, 9]\n",
    "y = [0, 1, 0, 1, 1]\n",
    "z = [2, 1, 0, 0, 0]\n",
    "students = list(zip(x, y, z))\n",
    "\n",
    "result = []\n",
    "for student in students:\n",
    "    for i, country in enumerate(countries):\n",
    "        cond1 = student[0] >= country[0]\n",
    "        cond2 = student[1] >= country[1]\n",
    "        cond3 = (student[2] == i+1) and country[2] == 1\n",
    "        if (cond1 and cond2) or cond3:\n",
    "            result.append(i+1)\n",
    "            break\n",
    "    else:\n",
    "        result.append(0)\n",
    "print(*result)"
   ]
  },
  {
   "cell_type": "code",
   "execution_count": null,
   "id": "da584590",
   "metadata": {},
   "outputs": [],
   "source": []
  }
 ],
 "metadata": {
  "kernelspec": {
   "display_name": "Python 3 (ipykernel)",
   "language": "python",
   "name": "python3"
  },
  "language_info": {
   "codemirror_mode": {
    "name": "ipython",
    "version": 3
   },
   "file_extension": ".py",
   "mimetype": "text/x-python",
   "name": "python",
   "nbconvert_exporter": "python",
   "pygments_lexer": "ipython3",
   "version": "3.10.6"
  }
 },
 "nbformat": 4,
 "nbformat_minor": 5
}
