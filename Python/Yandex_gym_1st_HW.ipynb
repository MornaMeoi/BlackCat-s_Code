{
 "cells": [
  {
   "cell_type": "code",
   "execution_count": 4,
   "id": "aed992e3",
   "metadata": {
    "collapsed": true
   },
   "outputs": [
    {
     "name": "stdout",
     "output_type": "stream",
     "text": [
      "-27 -4\n",
      "auto\n",
      "-4\n"
     ]
    }
   ],
   "source": [
    "#Задача A. Кондиционер\n",
    "temps = list(map(int, input().split()))\n",
    "mode = input()\n",
    "if mode == 'freeze':\n",
    "    print(min(temps))\n",
    "elif mode == 'heat':\n",
    "    print(max(temps))\n",
    "elif mode == 'auto':\n",
    "    print(temps[1])\n",
    "else:\n",
    "    print(temps[0])"
   ]
  },
  {
   "cell_type": "code",
   "execution_count": 5,
   "id": "e3bf3dea",
   "metadata": {
    "collapsed": true
   },
   "outputs": [
    {
     "name": "stdout",
     "output_type": "stream",
     "text": [
      "1\n",
      "2\n",
      "3\n",
      "1 2 3\n"
     ]
    }
   ],
   "source": [
    "#Задча B. Треугольник\n",
    "a, b, c = (int(input()) for _ in range(3))\n",
    "if a + b <= c or b + c <= a or a + c <= b:\n",
    "    print(\"NO\")\n",
    "else:\n",
    "    print(\"YES\")"
   ]
  },
  {
   "cell_type": "code",
   "execution_count": 23,
   "id": "8f0d79e8",
   "metadata": {
    "collapsed": true
   },
   "outputs": [
    {
     "name": "stdout",
     "output_type": "stream",
     "text": [
      "['4', '9', '5', '4', '3', '0', '2', '3', '9', '7']\n",
      "[['4', '9', '5', '4', '3', '0', '2', '3', '9', '7'], ['4', '9', '5', '4', '3', '0', '2', '3', '9', '7'], ['4', '9', '5', '8', '4', '9', '5', '4', '3', '0']]\n",
      "YES\n",
      "YES\n",
      "NO\n"
     ]
    }
   ],
   "source": [
    "#Задача C. Телефонные номера\n",
    "def num_parser(num):\n",
    "    num = [dig for dig in num if dig.isdigit()]\n",
    "    return ['4', '9', '5'] + num[-7:] if len(num) < 10 else num[-10:]\n",
    "\n",
    "new_num = num_parser(input())\n",
    "nums = [num_parser(input()) for _ in range(3)]\n",
    "for num in nums:\n",
    "    if num == new_num:\n",
    "        print('YES')\n",
    "    else:\n",
    "        print('NO')"
   ]
  },
  {
   "cell_type": "code",
   "execution_count": 34,
   "id": "1a89ce67",
   "metadata": {
    "collapsed": true
   },
   "outputs": [
    {
     "name": "stdout",
     "output_type": "stream",
     "text": [
      "10\n",
      "3\n",
      "4\n",
      "1.3\n"
     ]
    }
   ],
   "source": [
    "#Задача D. Уравнение с корнем\n",
    "a, b, c = (int(input()) for _ in range(3))\n",
    "if a == 0:\n",
    "    if b == c ** 2:\n",
    "        print('MANY SOLUTIONS')\n",
    "    else:\n",
    "        print('NO SOLUTION')\n",
    "elif c < 0:\n",
    "    print('NO SOLUTION')\n",
    "else:\n",
    "    ans = (c ** 2 - b) / a\n",
    "    print(int(ans) if int(ans) == ans else 'NO SOLUTION')"
   ]
  },
  {
   "cell_type": "code",
   "execution_count": 5,
   "id": "0b9e7b13",
   "metadata": {},
   "outputs": [
    {
     "name": "stdout",
     "output_type": "stream",
     "text": [
      "11 2 4 1 2\n",
      "0 0\n"
     ]
    }
   ],
   "source": [
    "#Задача E. Скорая помощь\n",
    "K1, M, K2, P2, N2 = map(int, input().split())\n",
    "if N2 > M or (P2 - 1) * M  + N2 > K2:\n",
    "    print(-1, -1)\n",
    "elif P2 == 1 and N2 <= 2:\n",
    "    if K1 <= M:\n",
    "        print(1, 0)\n",
    "    elif M == 1:\n",
    "        print(0, 1)\n",
    "    else:\n",
    "        print(0, 0)\n",
    "else:\n",
    "    x = (K2 - 1) // ((N2 - 1) + M * (P2 -1))\n",
    "    y = x * M\n",
    "    P1 = ((K1 - 1) // y) + 1\n",
    "    N1 = (((K1 - (P1 - 1) * y) - 1) // x) + 1\n",
    "    print(P1, N1)"
   ]
  },
  {
   "cell_type": "code",
   "execution_count": 13,
   "id": "5e6b1dcf",
   "metadata": {
    "collapsed": true
   },
   "outputs": [
    {
     "name": "stdout",
     "output_type": "stream",
     "text": [
      "10 2 2 10\n",
      "10 4\n"
     ]
    }
   ],
   "source": [
    "#Задача F. Расстановка ноутбуков\n",
    "def square(a, b, c, d):\n",
    "    return max(a, c), (b + d)\n",
    "\n",
    "a, b, c, d = tuple(map(int, input().split()))\n",
    "print(*min(square(a, b, c, d), \n",
    "          square(a, b, d, c), \n",
    "          square(b, a, c, d), \n",
    "          square(b, a, d, c), \n",
    "          key=lambda x: x[0] * x[1]))"
   ]
  },
  {
   "cell_type": "code",
   "execution_count": 82,
   "id": "804d9b74",
   "metadata": {
    "collapsed": true
   },
   "outputs": [
    {
     "name": "stdout",
     "output_type": "stream",
     "text": [
      "14 5 3\n",
      "4\n"
     ]
    }
   ],
   "source": [
    "#Задача G. Детали\n",
    "N, M, K = map(int, input().split())\n",
    "result = 0\n",
    "if K > M:\n",
    "    print(0)\n",
    "else:\n",
    "    while N >= M:\n",
    "        temp = N // M\n",
    "        result += (M // K) * temp\n",
    "        N = N % M + (M % K) * temp\n",
    "    print(result)"
   ]
  },
  {
   "cell_type": "code",
   "execution_count": 16,
   "id": "cf802a27",
   "metadata": {
    "collapsed": true
   },
   "outputs": [
    {
     "name": "stdout",
     "output_type": "stream",
     "text": [
      "1\n",
      "5\n",
      "1\n",
      "2\n",
      "-1\n"
     ]
    }
   ],
   "source": [
    "#Задача H. Метро\n",
    "a, b, n, m = (int(input()) for _ in range(4))\n",
    "cond1 = 1 + (a + 1) * (n - 1) > b + (b + 1) * m\n",
    "cond2 = 1 + (b + 1) * (m - 1) > a + (a + 1) * n\n",
    "if cond1 or cond2:\n",
    "    print(-1)\n",
    "else:\n",
    "    mi = max(1 + (a + 1) * (n - 1), 1 + (b + 1) * (m - 1))\n",
    "    ma = min(a + (a + 1) * n, b + (b + 1) * m)\n",
    "    print(mi, ma)"
   ]
  },
  {
   "cell_type": "code",
   "execution_count": 95,
   "id": "cbef378a",
   "metadata": {},
   "outputs": [
    {
     "name": "stdout",
     "output_type": "stream",
     "text": [
      "2\n",
      "2\n",
      "2\n",
      "1\n",
      "1\n",
      "NO\n"
     ]
    }
   ],
   "source": [
    "#Задача I. Узник замка Иф\n",
    "def comp(a, b, c):\n",
    "    cond1 = a <= D and (b <= E or c <= E)\n",
    "    cond2 = a <= E and (b <= D or c <= D)\n",
    "    return cond1 or cond2\n",
    "\n",
    "A, B, C, D, E = [int(input()) for _ in range(5)]\n",
    "if comp(A, B, C) or comp(B, A, C) or comp(C, A, B):\n",
    "    print('YES')\n",
    "else:\n",
    "    print('NO')"
   ]
  },
  {
   "cell_type": "code",
   "execution_count": 8,
   "id": "0b39d4b0",
   "metadata": {},
   "outputs": [],
   "source": [
    "?min"
   ]
  }
 ],
 "metadata": {
  "kernelspec": {
   "display_name": "Python 3 (ipykernel)",
   "language": "python",
   "name": "python3"
  },
  "language_info": {
   "codemirror_mode": {
    "name": "ipython",
    "version": 3
   },
   "file_extension": ".py",
   "mimetype": "text/x-python",
   "name": "python",
   "nbconvert_exporter": "python",
   "pygments_lexer": "ipython3",
   "version": "3.10.6"
  }
 },
 "nbformat": 4,
 "nbformat_minor": 5
}
