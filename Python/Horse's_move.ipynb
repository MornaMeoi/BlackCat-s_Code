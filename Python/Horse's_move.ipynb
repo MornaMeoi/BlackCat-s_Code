{
 "cells": [
  {
   "cell_type": "code",
   "execution_count": 12,
   "id": "d97e35f2",
   "metadata": {},
   "outputs": [
    {
     "name": "stdout",
     "output_type": "stream",
     "text": [
      "31 34\n",
      "293930\n"
     ]
    }
   ],
   "source": [
    "N, M = map(int, input().split())\n",
    "board = [[0 for _ in range(M)] for _ in range(N)]\n",
    "board[0][0] = 1\n",
    "for i in range(N):\n",
    "    for j in range(M):\n",
    "        if i-2 >= 0 and j-1 >= 0:\n",
    "            board[i][j] += board[i-2][j-1]\n",
    "        if i-1 >= 0 and j-2 >= 0:\n",
    "            board[i][j] += board[i-1][j-2]\n",
    "print(board[-1][-1])"
   ]
  }
 ],
 "metadata": {
  "kernelspec": {
   "display_name": "Python 3 (ipykernel)",
   "language": "python",
   "name": "python3"
  },
  "language_info": {
   "codemirror_mode": {
    "name": "ipython",
    "version": 3
   },
   "file_extension": ".py",
   "mimetype": "text/x-python",
   "name": "python",
   "nbconvert_exporter": "python",
   "pygments_lexer": "ipython3",
   "version": "3.10.6"
  }
 },
 "nbformat": 4,
 "nbformat_minor": 5
}
