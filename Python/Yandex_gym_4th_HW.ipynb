{
 "cells": [
  {
   "cell_type": "code",
   "execution_count": 2,
   "id": "4de3cd44",
   "metadata": {
    "collapsed": true
   },
   "outputs": [
    {
     "name": "stdout",
     "output_type": "stream",
     "text": [
      "3\n",
      "Hello Hi\n",
      "Bye Goodbye\n",
      "List Array\n",
      "Goodbye\n",
      "Bye\n"
     ]
    }
   ],
   "source": [
    "#Задача A. Словарь синонимов\n",
    "words = {}\n",
    "for _ in range(int(input())):\n",
    "    a, b = input().split()\n",
    "    words[a] = b\n",
    "    words[b] = a\n",
    "print(words[input()])"
   ]
  },
  {
   "cell_type": "code",
   "execution_count": 7,
   "id": "928f2d5d",
   "metadata": {
    "collapsed": true
   },
   "outputs": [
    {
     "name": "stdout",
     "output_type": "stream",
     "text": [
      "0 0 0 0 0 0 1 0 0 1 0 0 1 0 2 2 0 0 0 0 1 2 3 3 1 1 4 0 1 0 1 2 4 1 5 0 0 "
     ]
    }
   ],
   "source": [
    "#Задача B. Номер появления слова\n",
    "with open('input.txt') as inp:\n",
    "    counter, lines = {}, inp.readlines()\n",
    "    for line in lines:\n",
    "        for word in line.split():\n",
    "            if word in counter:\n",
    "                print(counter[word], end=' ')\n",
    "                counter[word] += 1\n",
    "            else:\n",
    "                print(0, end=' ')\n",
    "                counter[word] = 1"
   ]
  },
  {
   "cell_type": "code",
   "execution_count": 11,
   "id": "168f2fbb",
   "metadata": {
    "collapsed": true
   },
   "outputs": [
    {
     "name": "stdout",
     "output_type": "stream",
     "text": [
      "a\n"
     ]
    }
   ],
   "source": [
    "#Задача C. Самое частое слово\n",
    "words = {}\n",
    "with open('input.txt') as inp:\n",
    "    lines = inp.readlines()\n",
    "    for line in lines:\n",
    "        for word in line.split():\n",
    "            if word in words:\n",
    "                words[word] += 1\n",
    "            else:\n",
    "                words[word] = 1\n",
    "m, answer = max(words.values()), []\n",
    "for word, count in words.items():\n",
    "    if count == m:\n",
    "        answer.append(word)\n",
    "print(sorted(answer)[0])"
   ]
  },
  {
   "cell_type": "code",
   "execution_count": 15,
   "id": "b51b5a43",
   "metadata": {
    "collapsed": true
   },
   "outputs": [
    {
     "name": "stdout",
     "output_type": "stream",
     "text": [
      "5\n",
      "1 50 3 4 3\n",
      "16\n",
      "1 2 3 4 5 1 3 3 4 5 5 5 5 5 4 5\n",
      "YES\n",
      "NO\n",
      "NO\n",
      "NO\n",
      "YES\n"
     ]
    }
   ],
   "source": [
    "#Задача D. Клавиатура\n",
    "n, keys = int(input()), map(int, input().split())\n",
    "keyboard = {i: num for i, num in enumerate(keys)}\n",
    "input()\n",
    "for touch in list(map(int, input().split())):\n",
    "    keyboard[touch-1] -= 1\n",
    "for val in keyboard.values():\n",
    "    if val < 0:\n",
    "        print('YES')\n",
    "    else:\n",
    "        print('NO')"
   ]
  },
  {
   "cell_type": "code",
   "execution_count": 23,
   "id": "dc5f48f4",
   "metadata": {
    "collapsed": true
   },
   "outputs": [
    {
     "name": "stdout",
     "output_type": "stream",
     "text": [
      "3\n",
      "3 1\n",
      "2 2\n",
      "3 3\n",
      "5\n"
     ]
    }
   ],
   "source": [
    "#Задача E. Пирамида\n",
    "bricks = {}\n",
    "for _ in range(int(input())):\n",
    "    w, h = map(int, input().split())\n",
    "    if w in bricks:\n",
    "        bricks[w] = max(h, bricks[w])\n",
    "    else:\n",
    "        bricks[w] = h\n",
    "print(sum(bricks.values()))"
   ]
  },
  {
   "cell_type": "code",
   "execution_count": 32,
   "id": "83d991d2",
   "metadata": {
    "collapsed": true
   },
   "outputs": [
    {
     "name": "stdout",
     "output_type": "stream",
     "text": [
      "CNTSJGJOD:\n",
      "FFFJASJOP 23634002\n",
      "VXAHIVN:\n",
      "FFFJASJOP 27511457\n"
     ]
    }
   ],
   "source": [
    "#Задача F. Продажи\n",
    "customers = {}\n",
    "with open('input.txt') as inp:\n",
    "    stuff = inp.readlines()\n",
    "    for query in stuff:\n",
    "        name, buy, amount = query.split()\n",
    "        amount = int(amount)\n",
    "        if name in customers:\n",
    "            if buy in customers[name]:\n",
    "                customers[name][buy] += amount\n",
    "            else:\n",
    "                customers[name][buy] = amount\n",
    "        else:\n",
    "            customers[name] = {buy: amount}\n",
    "for cust in sorted(customers.keys()):\n",
    "    print(f\"{cust}:\")\n",
    "    for buy in sorted(customers[cust].keys()):\n",
    "        print(buy, customers[cust][buy])"
   ]
  },
  {
   "cell_type": "code",
   "execution_count": 35,
   "id": "4a6c3a66",
   "metadata": {
    "collapsed": true
   },
   "outputs": [
    {
     "name": "stdout",
     "output_type": "stream",
     "text": [
      "ERROR\n",
      "ERROR\n",
      "100\n",
      "ERROR\n",
      "80\n",
      "ERROR\n",
      "80\n",
      "-78\n",
      "-704\n",
      "-78\n",
      "-704\n",
      "771\n"
     ]
    }
   ],
   "source": [
    "#Задача G. Банковские счета\n",
    "with open('input.txt') as inp:\n",
    "    bank = {}\n",
    "    queries = inp.readlines()\n",
    "    for query in queries:\n",
    "        query = query.split()\n",
    "        if query[0] == 'DEPOSIT':\n",
    "            if query[1] in bank:\n",
    "                bank[query[1]] += int(query[2])\n",
    "            else:\n",
    "                bank[query[1]] = int(query[2])\n",
    "        elif query[0] == 'WITHDRAW':\n",
    "            if query[1] in bank:\n",
    "                bank[query[1]] -= int(query[2])\n",
    "            else:\n",
    "                bank[query[1]] = -int(query[2])\n",
    "        elif query[0] == 'BALANCE':\n",
    "            if query[1] in bank:\n",
    "                print(bank[query[1]])\n",
    "            else:\n",
    "                print('ERROR')\n",
    "        elif query[0] == 'TRANSFER':\n",
    "            if query[1] in bank:\n",
    "                bank[query[1]] -= int(query[3])\n",
    "            else:\n",
    "                bank[query[1]] = -int(query[3])\n",
    "            if query[2] in bank:\n",
    "                bank[query[2]] += int(query[3])\n",
    "            else:\n",
    "                bank[query[2]] = int(query[3])\n",
    "        elif query[0] == 'INCOME':\n",
    "            for key, val in bank.items():\n",
    "                if val > 0:\n",
    "                    bank[key] = val + (val * int(query[1])) // 100"
   ]
  },
  {
   "cell_type": "code",
   "execution_count": 64,
   "id": "59b3dee2",
   "metadata": {
    "collapsed": true
   },
   "outputs": [
    {
     "name": "stdout",
     "output_type": "stream",
     "text": [
      "4 11\n",
      "Adca\n",
      "Counter({'A': 1, 'd': 1, 'c': 1, 'a': 1})\n"
     ]
    }
   ],
   "source": [
    "#Задача H. Расшифровка письменности Майя\n",
    "g, s = map(int, input().split())\n",
    "W = {}\n",
    "for symb in input():\n",
    "    if symb in W:\n",
    "        W[symb] += 1\n",
    "    else:\n",
    "        W[symb] = 1\n",
    "\n",
    "S, temp = input(), {}\n",
    "counter = 0\n",
    "while counter != s:\n",
    "    if temp == W:\n",
    "        for i in range(counter, counter+g):\n",
    "            if S[i] in W:\n",
    "                temp -= 1\n",
    "            else:\n",
    "                \n",
    "print(answer)"
   ]
  },
  {
   "cell_type": "code",
   "execution_count": 75,
   "id": "7a1ceda7",
   "metadata": {},
   "outputs": [
    {
     "name": "stdout",
     "output_type": "stream",
     "text": [
      "0\n",
      "ciFqrfIxe LgvqquN zvdlhnXJ tizFPXtv JxqWqgnR CabaJ hFYoqbhH UyfiTXO YvAylvnc ymtHHfnqh bmTLsEnh hikroekt dtVSftFBz ofQrMfo jGTGofv dVRwfJw UaRfzE wbjjGsM xKcezhleq XskqyXtl pWCkyr JcuiiawHw hHBbOV pIfztqkuo PNbjXhtoi lvthZdUc oozdiZCq xDdnpRqsD HDfocjpl aziTbCh jsJMkTpaG voKfnjYb ADtpndbo gwOkCvJs hGnvtbM NkFodqOwy BOgxWv qzMsbelpO tlQnic QlxjhTzNj OZvzmoNX NlbLsjq OvkpysLzc BFCjEESh aiLyKJas zhJbcdu vqxrKhgke BsEikapC aCCoHAFR qNSYNouc TboUQd bOJWCAy NiNkHPmA wsGXhub xIvDhv qeGgpTBkd XPOkfsxz bbgcyuWq YHioAxh mngcZbpgh qgbfVztk JMusos ogpskgdN HUmedvmA GhhpYKH vduijcpv rfMZlB rvpodvq UogggJX yhnKvOpz cKQHazal xdXpPMCzn zaYdrbic FYDsrfaF kFpUcXtY jihQVZ nhpgJXoT rwJokNFH eGvoNulk LugdwQRbl xlRQdy mOrvmCmhG tJpEDolo zLhXCegyl Orrnefa sQqsjckkm BaadhPSXa vLmbthY mlwXEbpns oLctMjmM spQHUtA qnxUrLGo ScAndtRh apdwiTV odtrlufr zkrreoWHT wbOJLyIvn TDPtdjFp CJtnhbNr ohkLVpww vJLdOfp ctswuolD kuIdtiWLq pHQvvlN uzEgrQhpG ncHyqZzt gkntqtmx ZAvUjYgJ hbjSXnN URnTcdbRk wMdRlrQ ilpvgMpja oIjXxmG sdnIJTkk bFvhViK dpdtgpt CembyhyMM RcBIirR rWyYzJfc UNbTfQQ plxhCpee bUbkgdDF JTgQAQhvp onFayvlm rykjyldhw xAuEnxF phbhlXB xxDDxfSfM aPHXcXsag sTseOhrrY MMiaCH avfBbeIfl hrtuxe zJlubLs Wwwdjvc JBnqWcAl hDXOdeHZr Nelvhp ydmbzqym kzbCxuN rNQCDbeqB VRaax yykZbEzOc XomeWckS jBrCrHrx FzGrd YvfUzRryb YYPSRO wxBazrm EkezBXg aUiYcod aTtjEEpz WczSYbDx tlFeIKB LlSQDtyVa iMGfoQ WyXVU wakvcqSU loKOoSnzA pWywmptia RcEMjACB bfyrkwpLp iSofdn SacAoja uIkcgpWnM dkqErpG nkxTwHfh srejafR rjXxUCQ BCstjy LBdeArjn SbunWWcd FmTkfGwh nyGRjOi VlZjliwD lQhjguWx IkemfP VGfqFBuiN aYrbvKu iabtpq QnjzcKE sffhhZYY JuooLppkr LqyjiBC WySPUmsQb CXjftV TmtgreN cicNuaor YIgdgc vTFwiGktI TNFmWdHU DpfEtwtf zssykzEsf xcsCKfnaS OBEwUVkzg PgArpsz RmUcaQels JmJaqn IcXnrvhkg vgkOPzmv BezbGaMfb bnjTmLse TnkNLq CxfpAoD slhLtnoaP jnppioo STcoufpS XmRtQqd yDpbsld qrVIEXn VZhmozgvr zuELbtea WiOopcPg vRwLRoy TyJkPUvOq yZSsjoi AzlwLPf suwNmPrzF kuJeUivG EnTHwlj XpZkNZH xygjBcx bTytkWFW ygKis iwjgktgw DzFDkhb elWPfddxy TyvlSNVR OBqjNCtXI cSYxJTb DqedLuqN vxikfztEc AbcQgnxiS bdCmDnn VbLDUWsz eeuucmp osIYklu sLXmxRipG yswHjZayD bMihpnRs lmyVpf gtfkgpmbB buPjpqli yxFSIu Ggjzeqm dTqrvPtei XduXypxn BykKgHhqe ewcUDvM lxWoiXBT HeqhAZu ialinsqW lcNzJmK yCKPbQrz hOjxGWvPq HgenCiuw QnWaEtz lRvwixAj otnJuciJ qtNWZPtL tJYiHzUiG rNhaIjil Oggvgmdq nhylWth VhrHlcnJV ceHFAVnU udtpWoJ wiQAeN mUkmTUv BqnLMdeSy kiffoynx vsnzxZe QbyfijgM ecxxWebWo TFoLnXouN SldaeWjV fuXlPWzBg qNNShyw avvNUgmP lhblkew svZdutKT avlFkl Afntea NrGVToH Hlvkxnut NbNbQXnc ugqqBFWcq bphIBvYpz FuuAUB CnqFfWxy lNdVncXmk UBvozFuqz muVHqMpa vcyQgcXN lfzcMdN eMmz ehXopYXAg GjBapgXVY qimorSZZt YEyoXzclm eUlyvxi aFrOSW htxGkVuJ ydszmKyb zAvzlkXM oRQizsGBz gZodlbKg pwQSugvyq MOvfpsCs tGNJBf lZqEdtPD sHYmFjcH wkRltsoYz qkWmhhBJ wgATDnhc HnbkMwnRv oSolCjBj xyQfzgenj xBtaqrEj eoCCfSg xYgfXZ htSgaFlbt DPrfLUw bdhrUaqT IabsomJE cyVtEg SMntmDjx jwwkwJkRo HeFyGSaTh KiSTzh dBCcqt vnAunEzf kGzwbur qmkMBbGCw Tdkunrkh YrYVnrbC muJSHjn Unuwgjfj ObbZfLsWd UjmxpJN KNlbLhF jFlbrLf pyOglEK\n",
      "296\n"
     ]
    }
   ],
   "source": [
    "#Задача I. Контрольная по ударениям\n",
    "def only_accent_check(w):\n",
    "    flag = 0\n",
    "    for lit in w:\n",
    "        if lit.isupper():\n",
    "            flag += 1\n",
    "    return False if flag == 1 else True\n",
    "dictionary = {input() for _ in range(int(input()))}\n",
    "words = set(map(str.lower, dictionary))\n",
    "mistakes = 0\n",
    "for word in input().split():\n",
    "    if word.casefold() in words:\n",
    "        if word not in dictionary:\n",
    "            mistakes += 1\n",
    "    elif only_accent_check(word):\n",
    "        mistakes += 1\n",
    "print(mistakes)"
   ]
  },
  {
   "cell_type": "code",
   "execution_count": 71,
   "id": "ca0e41c1",
   "metadata": {},
   "outputs": [],
   "source": [
    "?str."
   ]
  }
 ],
 "metadata": {
  "kernelspec": {
   "display_name": "Python 3 (ipykernel)",
   "language": "python",
   "name": "python3"
  },
  "language_info": {
   "codemirror_mode": {
    "name": "ipython",
    "version": 3
   },
   "file_extension": ".py",
   "mimetype": "text/x-python",
   "name": "python",
   "nbconvert_exporter": "python",
   "pygments_lexer": "ipython3",
   "version": "3.10.6"
  }
 },
 "nbformat": 4,
 "nbformat_minor": 5
}
