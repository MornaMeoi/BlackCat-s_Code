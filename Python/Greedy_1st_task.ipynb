{
 "cells": [
  {
   "cell_type": "code",
   "execution_count": 15,
   "id": "ccd89ffb",
   "metadata": {},
   "outputs": [
    {
     "name": "stdout",
     "output_type": "stream",
     "text": [
      "2\n",
      "3 6\n"
     ]
    }
   ],
   "source": [
    "#алгоритм покрытия отрезков минимальным множеством точек\n",
    "def greedy(segments):\n",
    "    points.append(segments[0][1])\n",
    "    for i in range(len(segments[1:])):\n",
    "        if segments[i][0] > segments[0][1]:\n",
    "            greedy(segments[i:])\n",
    "            break\n",
    "\n",
    "segments = [[int(j) for j in input().split()] for i in range(int(input()))]\n",
    "segments.sort(key=lambda x: x[1])\n",
    "points = []\n",
    "greedy(segments)\n",
    "print(len(points))\n",
    "print(*points, sep=' ')"
   ]
  },
  {
   "cell_type": "code",
   "execution_count": 7,
   "id": "f68b9dc3",
   "metadata": {},
   "outputs": [],
   "source": []
  },
  {
   "cell_type": "code",
   "execution_count": null,
   "id": "60ed5bff",
   "metadata": {},
   "outputs": [],
   "source": []
  }
 ],
 "metadata": {
  "kernelspec": {
   "display_name": "Python 3 (ipykernel)",
   "language": "python",
   "name": "python3"
  },
  "language_info": {
   "codemirror_mode": {
    "name": "ipython",
    "version": 3
   },
   "file_extension": ".py",
   "mimetype": "text/x-python",
   "name": "python",
   "nbconvert_exporter": "python",
   "pygments_lexer": "ipython3",
   "version": "3.10.6"
  }
 },
 "nbformat": 4,
 "nbformat_minor": 5
}
