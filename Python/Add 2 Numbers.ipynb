{
 "cells": [
  {
   "cell_type": "code",
   "execution_count": 57,
   "id": "1fc4df72",
   "metadata": {},
   "outputs": [
    {
     "name": "stdout",
     "output_type": "stream",
     "text": [
      "[18 18 18 18  9  9  9]\n",
      "[8 9 9 9 0 0 0 1]\n"
     ]
    },
    {
     "data": {
      "text/plain": [
       "8"
      ]
     },
     "execution_count": 57,
     "metadata": {},
     "output_type": "execute_result"
    }
   ],
   "source": [
    "#leetcode\n",
    "class ListNode:\n",
    "    def __init__(self, val=0, next=None):\n",
    "        self.val = val\n",
    "        self.next = next\n",
    "import numpy as np\n",
    "class Solution:\n",
    "    def addTwoNumbers(self, l1: Optional[ListNode], l2: Optional[ListNode]) -> Optional[ListNode]:\n",
    "        a, b = [], []\n",
    "        while l1.next != None and l2.next != None:\n",
    "            if l1.next != None:\n",
    "                a.append(l1.val)\n",
    "                l1 = l1.next\n",
    "            if l2.next != None:\n",
    "                b.append(l2.val)\n",
    "                l2 = l2.next\n",
    "                \n",
    "        leng = min(len(a), len(b))\n",
    "        result = np.array(a[:leng]) + np.array(b[:leng])\n",
    "        if len(a) > len(b):\n",
    "            tail = np.array(a[len(b):])\n",
    "        else:\n",
    "            tail = np.array(b[len(a):])\n",
    "        result = np.concatenate((result, tail))\n",
    "        for i in range(len(result) - 1):\n",
    "            result[i + 1] += result[i] // 10\n",
    "        if result[-1] >= 10:\n",
    "            result = np.concatenate((result, [1]))\n",
    "        result = result % 10\n",
    "        \n",
    "        a = ListNode(val=result[-1], next=None)\n",
    "        print(result[:-1:-1])\n",
    "        for x in result[:-1:-1]:\n",
    "            a = ListNode(val=x, next=a)\n",
    "        return a"
   ]
  },
  {
   "cell_type": "code",
   "execution_count": 77,
   "id": "ed0c19cc",
   "metadata": {},
   "outputs": [
    {
     "name": "stdout",
     "output_type": "stream",
     "text": [
      "[]\n"
     ]
    }
   ],
   "source": [
    "b = np.array([8, 9, 9, 9, 0, 0, 0, 1])\n",
    "print(b[::-1])"
   ]
  }
 ],
 "metadata": {
  "kernelspec": {
   "display_name": "Python 3 (ipykernel)",
   "language": "python",
   "name": "python3"
  },
  "language_info": {
   "codemirror_mode": {
    "name": "ipython",
    "version": 3
   },
   "file_extension": ".py",
   "mimetype": "text/x-python",
   "name": "python",
   "nbconvert_exporter": "python",
   "pygments_lexer": "ipython3",
   "version": "3.10.4"
  }
 },
 "nbformat": 4,
 "nbformat_minor": 5
}
