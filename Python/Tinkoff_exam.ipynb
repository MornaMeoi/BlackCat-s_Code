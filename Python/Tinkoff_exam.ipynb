{
 "cells": [
  {
   "cell_type": "code",
   "execution_count": 17,
   "id": "bcc15d7a",
   "metadata": {
    "collapsed": true
   },
   "outputs": [
    {
     "name": "stdout",
     "output_type": "stream",
     "text": [
      "1\n",
      "Tinkoff\n",
      "BYBYBYB\n",
      "0\n"
     ]
    }
   ],
   "source": [
    "#task_1\n",
    "def is_beautiful(word):\n",
    "    for i in range(0, len(word)-1, 2):\n",
    "        if (word[i] == 'Y' and word[i+1] == 'B') or (word[i] == 'B' and word[i+1] == 'Y'):\n",
    "            continue\n",
    "        else:\n",
    "            return 1\n",
    "    return 0\n",
    "\n",
    "input()\n",
    "words = input().split()\n",
    "spaces = []\n",
    "for i in range(len(words)):\n",
    "    if words[i] == ' ':\n",
    "        spaces.append(i)\n",
    "\n",
    "colors = list(input())\n",
    "for i in spaces:\n",
    "    colors.insert(i, ' ')\n",
    "    \n",
    "result = 0\n",
    "for w in ''.join(colors).split():\n",
    "    result += is_beautiful(w)\n",
    "print(result)"
   ]
  },
  {
   "cell_type": "code",
   "execution_count": 25,
   "id": "c8889345",
   "metadata": {
    "collapsed": true
   },
   "outputs": [
    {
     "name": "stdout",
     "output_type": "stream",
     "text": [
      "9\n",
      "3 6\n"
     ]
    }
   ],
   "source": [
    "#task_3\n",
    "n = int(input())\n",
    "if n % 2 == 0:\n",
    "    print(n//2, n//2)\n",
    "else:\n",
    "    a, b = n // 2, n // 2 + 1\n",
    "    while b % a != 0:\n",
    "        a -= 1\n",
    "        b += 1\n",
    "    print(a, b)"
   ]
  },
  {
   "cell_type": "code",
   "execution_count": 32,
   "id": "6c539733",
   "metadata": {
    "collapsed": true
   },
   "outputs": [
    {
     "name": "stdout",
     "output_type": "stream",
     "text": [
      "4\n",
      "3\n",
      "0\n",
      "2\n",
      "1\n",
      "5\n",
      "7\n",
      "2\n",
      "7\n"
     ]
    }
   ],
   "source": [
    "#task_6\n",
    "def max_xor(l):\n",
    "    m_xor = 0\n",
    "    for i in range(len(l)):\n",
    "        for j in range(i, len(l)):\n",
    "            xor = l[i] ^ l[j]\n",
    "            if xor > m_xor:\n",
    "                m_xor = xor\n",
    "    return m_xor\n",
    "\n",
    "nums = []\n",
    "for _ in range(int(input())):\n",
    "    nums.append(int(input()))\n",
    "    print(max_xor(nums))"
   ]
  },
  {
   "cell_type": "code",
   "execution_count": 40,
   "id": "eaebdf7f",
   "metadata": {},
   "outputs": [
    {
     "ename": "TypeError",
     "evalue": "'float' object cannot be interpreted as an integer",
     "output_type": "error",
     "traceback": [
      "\u001b[0;31m---------------------------------------------------------------------------\u001b[0m",
      "\u001b[0;31mTypeError\u001b[0m                                 Traceback (most recent call last)",
      "Input \u001b[0;32mIn [40]\u001b[0m, in \u001b[0;36m<cell line: 7>\u001b[0;34m()\u001b[0m\n\u001b[1;32m      9\u001b[0m f_to_th \u001b[38;5;241m=\u001b[39m ((values[i] \u001b[38;5;241m*\u001b[39m amounts[i]) \u001b[38;5;241m/\u001b[39m\u001b[38;5;241m/\u001b[39m values[i\u001b[38;5;241m-\u001b[39m\u001b[38;5;241m2\u001b[39m]) \u001b[38;5;241m/\u001b[39m values[i]\n\u001b[1;32m     10\u001b[0m result \u001b[38;5;241m+\u001b[39m\u001b[38;5;241m=\u001b[39m f_to_s \u001b[38;5;241m+\u001b[39m f_to_th\n\u001b[0;32m---> 11\u001b[0m \u001b[38;5;28;01mfor\u001b[39;00m j \u001b[38;5;129;01min\u001b[39;00m \u001b[38;5;28;43mrange\u001b[39;49m\u001b[43m(\u001b[49m\u001b[38;5;241;43m1\u001b[39;49m\u001b[43m,\u001b[49m\u001b[43m \u001b[49m\u001b[43mf_to_s\u001b[49m\u001b[43m \u001b[49m\u001b[38;5;241;43m+\u001b[39;49m\u001b[43m \u001b[49m\u001b[38;5;241;43m1\u001b[39;49m\u001b[43m)\u001b[49m:\n\u001b[1;32m     12\u001b[0m     result \u001b[38;5;241m+\u001b[39m\u001b[38;5;241m=\u001b[39m ((values[i] \u001b[38;5;241m*\u001b[39m amounts[i] \u001b[38;5;241m-\u001b[39m j \u001b[38;5;241m*\u001b[39m f_to_s) \u001b[38;5;241m/\u001b[39m\u001b[38;5;241m/\u001b[39m values[i\u001b[38;5;241m-\u001b[39m\u001b[38;5;241m2\u001b[39m]) \u001b[38;5;241m/\u001b[39m\u001b[38;5;241m/\u001b[39m values[i]\n\u001b[1;32m     13\u001b[0m \u001b[38;5;28;01mfor\u001b[39;00m j \u001b[38;5;129;01min\u001b[39;00m \u001b[38;5;28mrange\u001b[39m(\u001b[38;5;241m1\u001b[39m, f_to_th \u001b[38;5;241m+\u001b[39m \u001b[38;5;241m1\u001b[39m):\n",
      "\u001b[0;31mTypeError\u001b[0m: 'float' object cannot be interpreted as an integer"
     ]
    }
   ],
   "source": [
    "#task_2\n",
    "#values = input().split()\n",
    "#amounts = input().split()\n",
    "values = [1, 2, 3]\n",
    "amounts = [3, 5, 4]\n",
    "result = 1\n",
    "for i in range(3):\n",
    "    f_to_s = ((values[i] * amounts[i]) // values[i-1]) // values[i]\n",
    "    f_to_th = ((values[i] * amounts[i]) // values[i-2]) // values[i]\n",
    "    result += f_to_s + f_to_th\n",
    "    for j in range(1, f_to_s + 1):\n",
    "        result += ((values[i] * amounts[i] - j * f_to_s) // values[i-2]) // values[i]\n",
    "    for j in range(1, f_to_th + 1):\n",
    "        result += ((values[i] * amounts[i] - j * f_to_th) // values[i-1]) // values[i]\n",
    "print(result)"
   ]
  }
 ],
 "metadata": {
  "kernelspec": {
   "display_name": "Python 3 (ipykernel)",
   "language": "python",
   "name": "python3"
  },
  "language_info": {
   "codemirror_mode": {
    "name": "ipython",
    "version": 3
   },
   "file_extension": ".py",
   "mimetype": "text/x-python",
   "name": "python",
   "nbconvert_exporter": "python",
   "pygments_lexer": "ipython3",
   "version": "3.10.6"
  }
 },
 "nbformat": 4,
 "nbformat_minor": 5
}
