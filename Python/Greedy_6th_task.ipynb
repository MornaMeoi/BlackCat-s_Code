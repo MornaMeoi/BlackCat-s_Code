{
 "cells": [
  {
   "cell_type": "code",
   "execution_count": 34,
   "id": "280ada83",
   "metadata": {
    "collapsed": true
   },
   "outputs": [
    {
     "name": "stdout",
     "output_type": "stream",
     "text": [
      "[2, 3]\n",
      "[3, 2]\n",
      "[3, 2, 18]\n",
      "[18, 2, 3]\n",
      "[18, 2, 3, 15]\n",
      "[18, 15, 3, 2]\n",
      "[18, 15, 3, 2]\n",
      "[18, 15, 3, 2, 18]\n",
      "[18, 18, 3, 2, 15]\n",
      "[18, 18, 3, 2, 15]\n",
      "[18, 18, 3, 2, 15, 12]\n",
      "[18, 18, 12, 2, 15, 3]\n",
      "[18, 18, 12, 2, 15, 3]\n",
      "[18, 18, 12, 2, 15, 3, 12]\n",
      "[18, 18, 12, 2, 15, 3, 12, 2]\n",
      "18\n",
      "18\n",
      "15\n"
     ]
    }
   ],
   "source": [
    "class maxHeap:\n",
    "    def __init__(self):\n",
    "        self.elements = []\n",
    "    \n",
    "    def __SiftUp__(self, element):\n",
    "        idx = len(self.elements) - 1\n",
    "        while idx != 0:\n",
    "            p_idx = ((idx + 1) // 2) - 1\n",
    "            if element > self.elements[p_idx]:\n",
    "                self.elements[idx], self.elements[p_idx] = self.elements[p_idx], self.elements[idx]\n",
    "                idx = p_idx\n",
    "            else:\n",
    "                break\n",
    "            \n",
    "    def __SiftDown__(self, element, idx=0):\n",
    "        while (idx + 1) * 2 <= len(self.elements):\n",
    "            ch_idx = ((idx + 1) * 2) - 1\n",
    "            if ch_idx + 1 != len(self.elements):\n",
    "                big_ch = self.elements.index((max(self.elements[ch_idx], self.elements[ch_idx+1])))\n",
    "                if element < self.elements[big_ch]:\n",
    "                    self.elements[idx], self.elements[big_ch] = \\\n",
    "                    self.elements[big_ch], self.elements[idx]\n",
    "                    idx = big_ch\n",
    "                else:\n",
    "                    break\n",
    "            else:\n",
    "                if element < self.elements[ch_idx]:\n",
    "                    self.elements[idx], self.elements[ch_idx] = \\\n",
    "                    self.elements[ch_idx], self.elements[idx]\n",
    "                    idx = ch_idx\n",
    "                else:\n",
    "                    break\n",
    "                \n",
    "    \n",
    "    def Insert(self, element):\n",
    "        self.elements.append(element)\n",
    "        self.__SiftUp__(element)\n",
    "    \n",
    "    def ExtractMax(self):\n",
    "        self.elements[0], self.elements[-1] = self.elements[-1], self.elements[0]\n",
    "        max_val = self.elements.pop(-1)\n",
    "        self.__SiftDown__(self.elements[0])\n",
    "        return max_val\n",
    "\n",
    "heap = maxHeap()\n",
    "for _ in range(int(input())):\n",
    "    query = input().split()\n",
    "    if query[0] == 'Insert':\n",
    "        heap.Insert(int(query[1]))\n",
    "    elif query[0] == 'ExtractMax':\n",
    "        print(heap.ExtractMax())"
   ]
  },
  {
   "cell_type": "code",
   "execution_count": 47,
   "id": "456bbfbe",
   "metadata": {},
   "outputs": [
    {
     "name": "stdout",
     "output_type": "stream",
     "text": [
      "500\n",
      "200\n",
      "10\n",
      "5\n"
     ]
    }
   ],
   "source": [
    "heap = []\n",
    "for _ in range(int(input())):\n",
    "    query = input().split()\n",
    "    if query[0] == 'Insert':\n",
    "        element = int(query[1])\n",
    "        heap.append(element)\n",
    "        idx = len(heap) - 1\n",
    "        while idx != 0:\n",
    "            p_idx = ((idx + 1) // 2) - 1\n",
    "            if element > heap[p_idx]:\n",
    "                heap[idx], heap[p_idx] = heap[p_idx], heap[idx]\n",
    "                idx = p_idx\n",
    "            else:\n",
    "                break \n",
    "    elif query[0] == 'ExtractMax':\n",
    "        heap[0], heap[-1] = heap[-1], heap[0]\n",
    "        print(heap.pop(-1))\n",
    "        idx = 0\n",
    "        while (idx + 1) * 2 <= len(heap):\n",
    "            ch_idx = ((idx + 1) * 2) - 1\n",
    "            if ch_idx + 1 != len(heap):\n",
    "                big_ch = heap.index(max(heap[ch_idx], heap[ch_idx+1]))\n",
    "                if heap[idx] < heap[big_ch]:\n",
    "                    heap[idx], heap[big_ch] = heap[big_ch], heap[idx]\n",
    "                    idx = big_ch\n",
    "                else:\n",
    "                    break\n",
    "            else:\n",
    "                if heap[idx] < heap[ch_idx]:\n",
    "                    heap[idx], heap[ch_idx] = heap[ch_idx], heap[idx]\n",
    "                    idx = ch_idx\n",
    "                else:\n",
    "                    break"
   ]
  }
 ],
 "metadata": {
  "kernelspec": {
   "display_name": "Python 3 (ipykernel)",
   "language": "python",
   "name": "python3"
  },
  "language_info": {
   "codemirror_mode": {
    "name": "ipython",
    "version": 3
   },
   "file_extension": ".py",
   "mimetype": "text/x-python",
   "name": "python",
   "nbconvert_exporter": "python",
   "pygments_lexer": "ipython3",
   "version": "3.10.6"
  }
 },
 "nbformat": 4,
 "nbformat_minor": 5
}
