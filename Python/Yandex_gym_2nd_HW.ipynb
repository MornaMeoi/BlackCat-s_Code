{
 "cells": [
  {
   "cell_type": "code",
   "execution_count": 3,
   "id": "4f035cb9",
   "metadata": {
    "collapsed": true
   },
   "outputs": [
    {
     "name": "stdout",
     "output_type": "stream",
     "text": [
      "1 9 7\n",
      "NO\n"
     ]
    }
   ],
   "source": [
    "#Задание A. Возрастает ли список?\n",
    "nums = list(map(int, input().split()))\n",
    "for i in range(1, len(nums)):\n",
    "    if nums[i] <= nums[i-1]:\n",
    "        print('NO')\n",
    "        break\n",
    "else:\n",
    "    print('YES')"
   ]
  },
  {
   "cell_type": "code",
   "execution_count": 9,
   "id": "2f699d39",
   "metadata": {
    "collapsed": true
   },
   "outputs": [
    {
     "name": "stdout",
     "output_type": "stream",
     "text": [
      "1\n",
      "1\n",
      "2\n",
      "3\n",
      "4\n",
      "2\n",
      "RANDOM\n"
     ]
    }
   ],
   "source": [
    "#Задача B. Определить вид последовательности\n",
    "flags = [1, 1, 1, 1, 1]\n",
    "\n",
    "prev, num = float(input()), float(input())\n",
    "while int(num) != -2 * 10 ** 9:\n",
    "    if num != prev:\n",
    "        flags[0] = 0\n",
    "    elif num == prev:\n",
    "        flags[1] = 0\n",
    "        flags[3] = 0\n",
    "    if num > prev:\n",
    "        flags[3] = 0\n",
    "        flags[4] = 0\n",
    "    elif num < prev:\n",
    "        flags[1] = 0\n",
    "        flags[2] = 0\n",
    "    \n",
    "    if sum(flags) == 0:\n",
    "        break\n",
    "    prev = num\n",
    "    num = float(input())\n",
    "if sum(flags) == 0:\n",
    "    print('RANDOM')\n",
    "elif flags[0] == 1:\n",
    "    print('CONSTANT')\n",
    "elif flags[1] == 1:\n",
    "    print('ASCENDING')\n",
    "elif flags[2] == 1:\n",
    "    print('WEAKLY ASCENDING')\n",
    "elif flags[3] == 1:\n",
    "    print('DESCENDING')\n",
    "else:\n",
    "    print('WEAKLY DESCENDING')"
   ]
  },
  {
   "cell_type": "code",
   "execution_count": 18,
   "id": "c469513a",
   "metadata": {
    "collapsed": true
   },
   "outputs": [
    {
     "name": "stdout",
     "output_type": "stream",
     "text": [
      "24\n",
      "1 2 3 4 5\n",
      "6\n",
      "5\n"
     ]
    }
   ],
   "source": [
    "#Задача C. Ближайшее число\n",
    "input()\n",
    "nums = list(map(int, input().split()))\n",
    "x = int(input())\n",
    "result = nums[0]\n",
    "for val in nums:\n",
    "    if abs(x - val) < abs(x - result):\n",
    "        result = val\n",
    "print(result)"
   ]
  },
  {
   "cell_type": "code",
   "execution_count": 21,
   "id": "215a28df",
   "metadata": {
    "collapsed": true
   },
   "outputs": [
    {
     "name": "stdout",
     "output_type": "stream",
     "text": [
      "1 5 1 5 1\n",
      "2\n"
     ]
    }
   ],
   "source": [
    "#Задача D. Больше своих соседей\n",
    "nums = list(map(int, input().split()))\n",
    "result = 0\n",
    "for i in range(1, len(nums) - 1):\n",
    "    if nums[i-1] < nums[i] > nums[i+1]:\n",
    "        result += 1\n",
    "print(result)"
   ]
  },
  {
   "cell_type": "code",
   "execution_count": 44,
   "id": "6c26d8cf",
   "metadata": {
    "collapsed": true
   },
   "outputs": [
    {
     "name": "stdout",
     "output_type": "stream",
     "text": [
      "3\n",
      "10 15 20\n",
      "0\n"
     ]
    }
   ],
   "source": [
    "#Задача E. Чемпионат по метанию коровьих лепешек\n",
    "input()\n",
    "nums = list(map(int, input().split()))\n",
    "winner, flag = max(nums), False\n",
    "result = 0\n",
    "for i in range(1, len(nums) - 1):\n",
    "    if nums[i-1] == winner:\n",
    "        flag = True\n",
    "    cond = str(nums[i])[-1]  == '5' and flag \\\n",
    "    and nums[i+1] < nums[i] and nums[i] > result\n",
    "    if cond:\n",
    "        result = nums[i]\n",
    "print(0 if result == 0 else sorted(nums, reverse=True).index(result) + 1)"
   ]
  },
  {
   "cell_type": "code",
   "execution_count": 82,
   "id": "9cfd1882",
   "metadata": {
    "collapsed": true
   },
   "outputs": [
    {
     "name": "stdout",
     "output_type": "stream",
     "text": [
      "5\n",
      "1 2 3 4 5\n",
      "4\n",
      "4 3 2 1\n"
     ]
    }
   ],
   "source": [
    "#Задача F. Симметричная последовательность\n",
    "input()\n",
    "nums = list(map(int, input().split()))\n",
    "idx = 0\n",
    "for i in range(len(nums)):\n",
    "    length = len(nums[i:])\n",
    "    cond1 = length % 2 == 1 and nums[i:i+length//2] == nums[:i+length//2:-1]\n",
    "    cond2 = length % 2 == 0 and nums[i:i+length//2] == nums[:i-1+length//2:-1]\n",
    "    if cond1 or cond2:\n",
    "        idx = i\n",
    "        break\n",
    "if idx == 0:\n",
    "    print(0)\n",
    "else:\n",
    "    print(len(nums[:idx]))\n",
    "    print(*nums[idx-1::-1])"
   ]
  },
  {
   "cell_type": "code",
   "execution_count": 7,
   "id": "43142935",
   "metadata": {
    "collapsed": true
   },
   "outputs": [
    {
     "name": "stdout",
     "output_type": "stream",
     "text": [
      "12288 -10075 29710 15686 -18900 -17715 15992 24431 6220 28403 -23148 18480 -22905 5411 -7602 15560 -26674 11109 -4323 6146 -1523 4312 10666 -15343 -17679 7284 20709 -7103 24305 14334 -12281 17314 26061 25616 17453 16618 -24230 -19788 21172 11339 2202 -22442 -20997 1879 -8773 -8736 5310 -23372 12621 -25596 -28609 -13309 -13 10336 15812 -21193 21576 -1897 -12311 -6988 -25143 -3501 23231 26610 12618 25834 -29140 21011 23427 1494 15215 23013 -15739 8325 5359 -12932 18111 -72 -12509 20116 24390 1920 17487 25536 24934 -6784 -16417 -2222 -16569 -25594 4491 14249 -28927 27281 3297 5998 6259 4577 12415 3779 -8856 3994 19941 11047 2866 -24443 -17299 -9556 12244 6376 -13694 -14647 -22225 21872 7543 -6935 17736 -2464 9390 1133 18202 -9733 -26011 13474 29793 -26628 -26124 27776 970 14277 -23213 775 -9318 29014 -5645 -27027 -21822 -17450 -5 -655 22807 -20981 16310 27605 -18393 914 7323 599 -12503 -28684 5835 -5627 25891 -11801 21243 -21506 22542 -5097 8115 178 10427 25808 10836 -11213 18488 21293 14652 12260 42 21034 8396 -27956 13670 -296 -757 18076 -15597 4135 -25222 -19603 8007 6012 2704 28935 16188 -20848 13502 -11950 -24466 5440 26348 27378 7990 -11523 -26393\n",
      "29710 29793\n"
     ]
    }
   ],
   "source": [
    "#Задача G. Наибольшее произведение двух чисел\n",
    "nums = list(map(int, input().split()))\n",
    "if len(nums) == 2:\n",
    "    print(min(nums), max(nums))\n",
    "else:\n",
    "    a = max(nums)\n",
    "    nums.pop(nums.index(a))\n",
    "    b = max(nums)\n",
    "\n",
    "    c = min(nums)\n",
    "    nums.pop(nums.index(c))\n",
    "    d = min(nums)\n",
    "    if a * b > c * d:\n",
    "        print(b, a)\n",
    "    else:\n",
    "        print(c, d)"
   ]
  },
  {
   "cell_type": "code",
   "execution_count": 10,
   "id": "e52e73b0",
   "metadata": {
    "collapsed": true
   },
   "outputs": [
    {
     "name": "stdout",
     "output_type": "stream",
     "text": [
      "1 2 3\n",
      "1 2 3\n"
     ]
    }
   ],
   "source": [
    "#Задача H. Наибольшее произведение трех чисел\n",
    "nums = list(map(int, input().split()))\n",
    "\n",
    "if len(nums) == 3:\n",
    "    print(*nums)\n",
    "else:\n",
    "    a = max(nums)\n",
    "    nums.pop(nums.index(a))\n",
    "    b = max(nums)\n",
    "    nums.pop(nums.index(b))\n",
    "    c = max(nums)\n",
    "    \n",
    "    d = min(nums)\n",
    "    nums.pop(nums.index(d))\n",
    "    e = min(nums)\n",
    "    if a * b * c > a * d * e:\n",
    "        print(a, b, c)\n",
    "    else:\n",
    "        print(a, d, e)"
   ]
  },
  {
   "cell_type": "code",
   "execution_count": 20,
   "id": "0b54ec61",
   "metadata": {},
   "outputs": [
    {
     "name": "stdout",
     "output_type": "stream",
     "text": [
      "3 2 2\n",
      "1 1\n",
      "2 2\n",
      "* 2\n",
      "2 *\n",
      "1 1\n"
     ]
    }
   ],
   "source": [
    "#Задача I. Сапер\n",
    "N, M, K = tuple(map(int, input().split()))\n",
    "table = [[0 for _ in range(M)] for _ in range(N)]\n",
    "mines = [[int(i)-1 for i in input().split()] for _ in range(K)]\n",
    "\n",
    "for x, y in mines:\n",
    "    for dx in x-1, x, x+1:\n",
    "        for dy in y-1, y, y+1:\n",
    "            if dx >= 0 and dx < N and dy >= 0 and dy < M:\n",
    "                table[dx][dy] += 1\n",
    "for x, y in mines:\n",
    "    table[x][y] = '*'\n",
    "\n",
    "for row in table:\n",
    "    print(*row)"
   ]
  },
  {
   "cell_type": "code",
   "execution_count": 10,
   "id": "075c8c89",
   "metadata": {},
   "outputs": [
    {
     "name": "stdout",
     "output_type": "stream",
     "text": [
      "4\n",
      "554\n",
      "880 further\n",
      "440 closer\n",
      "622 closer\n",
      "531.0 660.0\n"
     ]
    }
   ],
   "source": [
    "# Задача J. Треугольник Максима\n",
    "n, previous = int(input()), float(input())\n",
    "left, right = 30, 4000\n",
    "for _ in range(n-1):\n",
    "    current, state = input().split()\n",
    "    current = float(current)\n",
    "    if abs(previous - current) < 10**-6:\n",
    "        continue\n",
    "    cond1, cond2 = state == 'closer', state == 'further'\n",
    "    cond3, cond4 = previous < current, previous > current\n",
    "    border = (previous + current) / 2\n",
    "    cond5, cond6 = border > left, border < right\n",
    "    if ((cond1 and cond3) or (cond2 and cond4)) and cond5:\n",
    "        left = border\n",
    "    elif ((cond2 and cond3) or (cond1 and cond4)) and cond6:\n",
    "        right = border\n",
    "    previous = current\n",
    "print(left, right)"
   ]
  }
 ],
 "metadata": {
  "kernelspec": {
   "display_name": "Python 3 (ipykernel)",
   "language": "python",
   "name": "python3"
  },
  "language_info": {
   "codemirror_mode": {
    "name": "ipython",
    "version": 3
   },
   "file_extension": ".py",
   "mimetype": "text/x-python",
   "name": "python",
   "nbconvert_exporter": "python",
   "pygments_lexer": "ipython3",
   "version": "3.10.6"
  }
 },
 "nbformat": 4,
 "nbformat_minor": 5
}
