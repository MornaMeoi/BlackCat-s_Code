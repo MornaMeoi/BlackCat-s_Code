{
 "cells": [
  {
   "cell_type": "code",
   "execution_count": 19,
   "id": "28d5d7d3",
   "metadata": {
    "collapsed": true
   },
   "outputs": [
    {
     "name": "stdout",
     "output_type": "stream",
     "text": [
      "5\n"
     ]
    }
   ],
   "source": [
    "#Задача A. Наблюдение за студентами\n",
    "inp = open('input.txt')\n",
    "N, M = map(int, inp.readline().strip().split())\n",
    "events = []\n",
    "for _ in range(M):\n",
    "    first, last = map(int, inp.readline().strip().split())\n",
    "    events.append((first, 0))\n",
    "    events.append((last, 1))\n",
    "inp.close()\n",
    "\n",
    "events.sort()\n",
    "viewers, cheat = 1, 0\n",
    "for i in range(1, 2*M):\n",
    "    if viewers == 0:\n",
    "        cheat += events[i][0] - events[i-1][0] - 1\n",
    "    if events[i][1] == 0:\n",
    "        viewers += 1\n",
    "    else:\n",
    "        viewers -= 1\n",
    "print(cheat + events[0][0] + (N - events[-1][0] - 1))"
   ]
  },
  {
   "cell_type": "code",
   "execution_count": 28,
   "id": "0cae6ad8",
   "metadata": {
    "collapsed": true
   },
   "outputs": [
    {
     "name": "stdout",
     "output_type": "stream",
     "text": [
      "2 0\n"
     ]
    }
   ],
   "source": [
    "#Задача B. Точки и отрезки\n",
    "inp = open('input.txt')\n",
    "n, m = map(int, inp.readline().strip().split())\n",
    "events = []\n",
    "for _ in range(n):\n",
    "    first, last = map(int, inp.readline().strip().split())\n",
    "    events.append((min(first, last), -1))\n",
    "    events.append((max(first, last), 1))\n",
    "events.extend([(point, 0, i) for i, point in enumerate(map(int, inp.readline().strip().split()))])\n",
    "inp.close()\n",
    "\n",
    "events.sort()\n",
    "segments, answer = 0, [0] * m\n",
    "for event in events:\n",
    "    if event[1] == -1:\n",
    "        segments += 1\n",
    "    elif event[1] == 0:\n",
    "        answer[event[2]] = segments\n",
    "    else:\n",
    "        segments -= 1\n",
    "print(*answer)"
   ]
  },
  {
   "cell_type": "code",
   "execution_count": 42,
   "id": "6b313dc7",
   "metadata": {
    "collapsed": true
   },
   "outputs": [
    {
     "name": "stdout",
     "output_type": "stream",
     "text": [
      "4\n",
      "1 2 1 1 2 3 3 4 4 1\n"
     ]
    }
   ],
   "source": [
    "#Задача C. Рассадка в аудитории\n",
    "inp = open('input.txt')\n",
    "N, D = map(int, inp.readline().strip().split())\n",
    "events = []\n",
    "for i, student in enumerate(map(int, inp.readline().strip().split())):\n",
    "    events.append((student, 0, i))\n",
    "    events.append((student+D, 1, i))\n",
    "inp.close()\n",
    "\n",
    "events.sort()\n",
    "variants_amount, available, answer = 0, [], [0] * N\n",
    "for event in events:\n",
    "    if event[1] == 1:\n",
    "        available.append(answer[event[2]])\n",
    "    elif event[1] == 0:\n",
    "        if len(available) == 0:\n",
    "            variants_amount += 1\n",
    "            available.append(variants_amount)\n",
    "        answer[event[2]] = available.pop(0)\n",
    "print(variants_amount)\n",
    "print(*answer)"
   ]
  },
  {
   "cell_type": "code",
   "execution_count": 82,
   "id": "7b657b29",
   "metadata": {
    "collapsed": true
   },
   "outputs": [
    {
     "name": "stdout",
     "output_type": "stream",
     "text": [
      "[(1, 0, 0), (1, 0, 3), (6, 0, 2), (6, 1, 3), (11, 1, 0), (15, 1, 2)]\n",
      "set() {2}\n",
      "set() {3, 2}\n",
      "2 1 6\n"
     ]
    }
   ],
   "source": [
    "#Задача D. Реклама\n",
    "inp = open('input.txt')\n",
    "N = int(inp.readline().strip())\n",
    "events = []\n",
    "for i in range(N):\n",
    "    come, out = map(int, inp.readline().strip().split())\n",
    "    if out - come < 5:\n",
    "        continue\n",
    "    events.append((come, 0, i))\n",
    "    events.append((out, 1, i))\n",
    "inp.close()\n",
    "\n",
    "events.sort()\n",
    "print(events)\n",
    "length = len(events)\n",
    "result = first = second = 0\n",
    "first_window, second_window = set(), set()\n",
    "last1 = last2 = 0\n",
    "for i in range(length):\n",
    "    while last1 != length and events[last1][0] - events[i][0] <= 5:\n",
    "        if events[last1][1] == 1 and events[last1][2] in first_window:\n",
    "            first_window.remove(events[last1][2])\n",
    "        last1 += 1\n",
    "    last2 = last1-1\n",
    "    second_window = first_window.copy()\n",
    "    flag = True\n",
    "    for j in range(i, length):\n",
    "        while flag and j < last2:\n",
    "            if events[j][1] == 0:\n",
    "                second_window.add(events[j][2])\n",
    "            j += 1\n",
    "        flag = False\n",
    "        while last2 != length and events[last2][0] - events[j][0] <= 5:\n",
    "            if events[last2][1] == 1 and events[last2][2] in second_window:\n",
    "                second_window.remove(events[last2][2])\n",
    "            last2 += 1\n",
    "        current_people = len(first_window.union(second_window))\n",
    "        if result < current_people:\n",
    "            print(first_window, second_window)\n",
    "            result, first, second = current_people, events[i][0], events[j][0]\n",
    "        if events[j][1] == 0:\n",
    "            second_window.add(events[j][2])\n",
    "    if events[i][1] == 0:\n",
    "        first_window.add(events[i][2])\n",
    "print(result, first, second)"
   ]
  },
  {
   "cell_type": "code",
   "execution_count": 108,
   "id": "860f52d8",
   "metadata": {
    "collapsed": true
   },
   "outputs": [
    {
     "name": "stdout",
     "output_type": "stream",
     "text": [
      "1\n"
     ]
    }
   ],
   "source": [
    "#Задача E. Кассы\n",
    "inp = open('input.txt')\n",
    "N = int(inp.readline().strip())\n",
    "events = []\n",
    "for i in range(N):\n",
    "    open_h, open_m, close_h, close_m = map(int, inp.readline().strip().split())\n",
    "    events.append((open_h*60 + open_m, 1, i))\n",
    "    events.append((close_h*60 + close_m, 0, i))\n",
    "inp.close()\n",
    "\n",
    "events.sort()\n",
    "registers = set()\n",
    "start = answer = 0\n",
    "for i in (0, 1):\n",
    "    for event in events:\n",
    "        time, event_type, reg_id = event\n",
    "        if event_type == 1:\n",
    "            registers.add(reg_id)\n",
    "            if len(registers) == N:\n",
    "                start = i*1440 + time\n",
    "        elif reg_id in registers:\n",
    "            registers.remove(reg_id)\n",
    "            if len(registers) == N-1 and i == 1:\n",
    "                answer += i*1440 + time - start\n",
    "print(answer)"
   ]
  },
  {
   "cell_type": "code",
   "execution_count": 133,
   "id": "41d17ab0",
   "metadata": {
    "collapsed": true
   },
   "outputs": [
    {
     "name": "stdout",
     "output_type": "stream",
     "text": [
      "24 2 1049\n",
      "9 2 1083\n",
      "16 2 1117\n",
      "10 2 1108\n",
      "9 2 1072\n",
      "15 2 1110\n",
      "3 35 37 40 41 13 45 16 17 19\n",
      "3 35 37 7 40 41 8 13 47 16 17 15 19 23\n",
      "3 7 8 15 16 18 19 21 22 23 24 35 36 37 40 41 42 47 48 49\n",
      "3 7 8 10 15 16 18 19 21 22 23 24 25 35 36 40 41 42 47 48 49\n",
      "3 7 8 9 10 15 16 18 19 21 22 24 35 40 41 42 47 48 49\n",
      "3 7 8 9 10 14 15 16 18 19 21 22 24 35 42 47 48 49\n",
      "3 5 7 8 9 10 11 14 15 18 19 21 24 35 42 47 48 49\n",
      "3 5 7 8 9 10 11 14 15 18 21 24 35 39 42 47 48 49\n",
      "7 8 9 10 11 14 15 18 21 24 27 35 39 42 47 48 49\n",
      "7 8 9 10 11 14 15 18 21 24 27 30 39 42 47 48 49\n",
      "7 39 9 10 11 42 14 15 48 18 50 21 24 27 30\n",
      "39 9 10 11 42 14 15 48 18 50 21 24 27 29 30\n",
      "4 9 10 11 14 15 18 21 24 27 28 29 30 42 48 50\n",
      "4 6 42 14 48 18 50 21 24 27 28 29 30\n",
      "4 6 42 14 46 18 50 24 27 28 29 30\n",
      "34 4 6 14 46 50 27 28 29 30\n",
      "33 34 6 44 14 46 50 20 27 28 29 30 31\n",
      "33 2 6 44 46 50 28 29 30 31\n"
     ]
    }
   ],
   "source": [
    "#Задача F. Современники\n",
    "inp = open('input.txt')\n",
    "N = int(inp.readline().strip())\n",
    "events = []\n",
    "for i in range(1, N+1):\n",
    "    event = list(map(int, inp.readline().strip().split()))\n",
    "    if event[1] == 2:\n",
    "        print(event[0], event[1], event[2])\n",
    "    if event[5] - event[2] > 18 or (event[5] - event[2] == 18 and event[4] > event[1]) \\\n",
    "            or (event[5] - event[2] == 18 and event[4] == event[1] and event[3] > event[0]):\n",
    "        events.append((event[2] + 18, event[1], event[0], 1, i))\n",
    "        if event[5] - event[2] > 80 or (event[5] - event[2] == 80 and event[4] > event[1]) \\\n",
    "                or (event[5] - event[2] == 80 and event[4] == event[1] and event[3] > event[0]):\n",
    "            event[5] = event[2] + 80\n",
    "        events.append((event[5], event[4], event[3], 0, i))\n",
    "inp.close()\n",
    "\n",
    "events.sort()\n",
    "current_contemporaries, contemporaries = set(), []\n",
    "max_flag = False\n",
    "for event in events:\n",
    "    year, month, day, event_type, person_id = event\n",
    "    if event_type == 1:\n",
    "        current_contemporaries.add(person_id)\n",
    "        max_flag = True\n",
    "    else:\n",
    "        if max_flag:\n",
    "            contemporaries.append(current_contemporaries.copy())\n",
    "            max_flag = False\n",
    "        current_contemporaries.remove(person_id)\n",
    "\n",
    "if len(contemporaries) == 0:\n",
    "    print(0)\n",
    "else:\n",
    "    for con in contemporaries:\n",
    "        print(*con)"
   ]
  },
  {
   "cell_type": "code",
   "execution_count": 142,
   "id": "4165b7db",
   "metadata": {
    "collapsed": true
   },
   "outputs": [
    {
     "name": "stdout",
     "output_type": "stream",
     "text": [
      "1\n",
      "1 1\n"
     ]
    }
   ],
   "source": [
    "#Задача G. Детский праздник\n",
    "inp = open('input.txt')\n",
    "M, N = map(int, inp.readline().strip().split())\n",
    "events = []\n",
    "for i in range(N):\n",
    "    T, Z, Y = map(int, inp.readline().strip().split())\n",
    "    for j in range(1, M+1):\n",
    "        events.append((T*j + ((j-1)//Z)*Y, i))\n",
    "inp.close()\n",
    "\n",
    "events.sort()\n",
    "time, helpers = 0, [0] * N\n",
    "for event in events:\n",
    "    M -= 1\n",
    "    helpers[event[1]] += 1\n",
    "    if M == 0:\n",
    "        time = event[0]\n",
    "        break\n",
    "print(time)\n",
    "print(*helpers)"
   ]
  },
  {
   "cell_type": "code",
   "execution_count": 165,
   "id": "9eb8e67e",
   "metadata": {},
   "outputs": [
    {
     "name": "stdout",
     "output_type": "stream",
     "text": [
      "Wrong Answer\n",
      "Accepted\n"
     ]
    }
   ],
   "source": [
    "#Задача H. Охрана\n",
    "inp = open('input.txt')\n",
    "K = int(inp.readline().strip())\n",
    "for _ in range(K):\n",
    "    events = tuple(map(int, inp.readline().strip().split()))\n",
    "    temp = []\n",
    "    for i in range(events[0]):\n",
    "        temp.append((events[2*i + 1], 1, i))\n",
    "        temp.append((events[2*i + 2], 0, i))\n",
    "    events = sorted(temp)\n",
    "    \n",
    "    securities, alone, answer_flag = set(), set(), True\n",
    "    for event in events:\n",
    "        if event[1] == 1:\n",
    "            securities.add(event[2])\n",
    "        else:\n",
    "            securities.remove(event[2])\n",
    "            if len(securities) == 1:\n",
    "                alone.update(securities)\n",
    "            elif len(securities) == 0 and event[0] != 10_000:\n",
    "                answer_flag = False\n",
    "                break\n",
    "    print(\"Accepted\" if answer_flag and len(events)//2 == len(day)+1 else \"Wrong Answer\")\n",
    "inp.close()"
   ]
  },
  {
   "cell_type": "code",
   "execution_count": 184,
   "id": "529da156",
   "metadata": {
    "collapsed": true
   },
   "outputs": [
    {
     "name": "stdout",
     "output_type": "stream",
     "text": [
      "2\n"
     ]
    }
   ],
   "source": [
    "#Задача I. Автобусы\n",
    "def time_to_minutes(time):\n",
    "    hours, minutes = map(int, time.split(':'))\n",
    "    return hours * 60 + minutes\n",
    "\n",
    "inp = open('input.txt')\n",
    "N, M = map(int, inp.readline().strip().split())\n",
    "events = []\n",
    "for i in range(M):\n",
    "    start, start_time, finish, finish_time = inp.readline().strip().split()\n",
    "    events.append((time_to_minutes(start_time), 1, int(start), i))\n",
    "    events.append((time_to_minutes(finish_time), 0, int(finish), i))\n",
    "inp.close()\n",
    "    \n",
    "events.sort()\n",
    "buses, routes = [0] * N, [False] * M\n",
    "current = second = third = 0\n",
    "for i in range(3):\n",
    "    for event in events:\n",
    "        status, town, route_id = event[1:]\n",
    "        if status == 0 and routes[route_id]:\n",
    "            buses[town-1] += 1\n",
    "            current -= 1\n",
    "        elif status == 1:\n",
    "            if buses[town-1] != 0:\n",
    "                buses[town-1] -= 1\n",
    "            routes[route_id] = True\n",
    "            current += 1\n",
    "    second = sum(buses) if i == 1 else second\n",
    "    third = sum(buses) if i == 2 else third\n",
    "print(second + current if second == third else -1)"
   ]
  },
  {
   "cell_type": "code",
   "execution_count": 188,
   "id": "04b947c5",
   "metadata": {},
   "outputs": [
    {
     "name": "stdout",
     "output_type": "stream",
     "text": [
      "[((0, 0, 0), (10, 5, 5)), ((0, 5, 5), (10, 10, 10))]\n"
     ]
    }
   ],
   "source": [
    "#Задача J. НГУ-стройка\n",
    "def build_seq(block):\n",
    "    point1, point2 = block\n",
    "    x1, y1, z1 = point1\n",
    "    x2, y2, z2 = point2\n",
    "    \n",
    "\n",
    "inp = open(\"input.txt\")\n",
    "N, W, L = map(int, inp.readline().strip().split())\n",
    "blocks = []\n",
    "start = end = False\n",
    "for _ in range(N):\n",
    "    block = tuple(map(int, inp.readline().strip().split()))\n",
    "    start = True if block[0] == block[1] == block[2] == 0 else start\n",
    "    end = True if block[3] == W and block[4] == L else end\n",
    "    blocks.append((block[:3], block[3:]))\n",
    "inp.close()\n",
    "\n",
    "if start and end:\n",
    "    blocks.sort(key=lambda x: x[0][0]**2 + x[0][1]**2 + x[0][2]**2)\n",
    "else:\n",
    "    print(\"NO\")"
   ]
  },
  {
   "cell_type": "code",
   "execution_count": 194,
   "id": "a7608b33",
   "metadata": {
    "scrolled": true
   },
   "outputs": [
    {
     "name": "stdout",
     "output_type": "stream",
     "text": [
      "1187961846028.4443\n"
     ]
    }
   ],
   "source": [
    "r1, r2, pi = 122_200, 136_800, 3.14159265358979323846\n",
    "print((r2**2 - r1**2) * pi * 100)"
   ]
  }
 ],
 "metadata": {
  "kernelspec": {
   "display_name": "Python 3 (ipykernel)",
   "language": "python",
   "name": "python3"
  },
  "language_info": {
   "codemirror_mode": {
    "name": "ipython",
    "version": 3
   },
   "file_extension": ".py",
   "mimetype": "text/x-python",
   "name": "python",
   "nbconvert_exporter": "python",
   "pygments_lexer": "ipython3",
   "version": "3.10.6"
  }
 },
 "nbformat": 4,
 "nbformat_minor": 5
}
