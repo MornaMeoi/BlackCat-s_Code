{
 "cells": [
  {
   "cell_type": "code",
   "execution_count": 21,
   "id": "fd9f9aba",
   "metadata": {
    "collapsed": true
   },
   "outputs": [
    {
     "name": "stdout",
     "output_type": "stream",
     "text": [
      "[(0, 0, 0), (0, 1, 11), (2, 15, 59), (23, 59, 58), (23, 59, 59)]\n",
      "1\n"
     ]
    }
   ],
   "source": [
    "#task A\n",
    "inp = open(\"input.txt\")\n",
    "events = [tuple(map(int, x.split(':'))) for x in inp.readlines()[1:]]\n",
    "print(events)\n",
    "inp.close()\n",
    "for i in range(len(events)):\n",
    "    events[i] = events[i][0] * 24 * 60 + events[i][1] * 60 + events[i][2]\n",
    "result = 1\n",
    "for i in range(1, len(events)):\n",
    "    if(events[i] <= events[i-1]):\n",
    "        result += 1\n",
    "print(result)"
   ]
  },
  {
   "cell_type": "code",
   "execution_count": 50,
   "id": "436334ee",
   "metadata": {
    "collapsed": true
   },
   "outputs": [
    {
     "name": "stdout",
     "output_type": "stream",
     "text": [
      "YES\n",
      "YES\n",
      "YES\n",
      "NO\n"
     ]
    }
   ],
   "source": [
    "#task B\n",
    "inp = open(\"input.txt\")\n",
    "strings = [list(string.strip()) for string in inp.readlines()[1:]]\n",
    "inp.close()\n",
    "strings = tuple(zip(strings[::2], strings[1::2]))\n",
    "for pair in strings:\n",
    "    str1, str2 = pair\n",
    "    for i in range(len(str1)):\n",
    "        temp = str1.copy()\n",
    "        for j in range(len(str1)):\n",
    "            if str1[j] == str1[i]:\n",
    "                temp[j] = str2[i]\n",
    "            elif str1[j] == str2[i]:\n",
    "                temp[j] = str1[i]\n",
    "        str1 = temp\n",
    "    if str1 == str2:\n",
    "        print(\"YES\")\n",
    "    else:\n",
    "        print(\"NO\")"
   ]
  }
 ],
 "metadata": {
  "kernelspec": {
   "display_name": "Python 3 (ipykernel)",
   "language": "python",
   "name": "python3"
  },
  "language_info": {
   "codemirror_mode": {
    "name": "ipython",
    "version": 3
   },
   "file_extension": ".py",
   "mimetype": "text/x-python",
   "name": "python",
   "nbconvert_exporter": "python",
   "pygments_lexer": "ipython3",
   "version": "3.10.12"
  }
 },
 "nbformat": 4,
 "nbformat_minor": 5
}
