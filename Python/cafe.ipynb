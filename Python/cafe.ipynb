{
 "cells": [
  {
   "cell_type": "code",
   "execution_count": 11,
   "id": "614eb58c",
   "metadata": {},
   "outputs": [
    {
     "name": "stdout",
     "output_type": "stream",
     "text": [
      "300\n",
      "0 1\n",
      "2\n"
     ]
    }
   ],
   "source": [
    "# https://coderun.yandex.ru/problem/cafe?currentPage=1&pageSize=10&rowNumber=5\n",
    "inp = open(\"input.txt\")\n",
    "prices = [int(num) for num in inp.readlines()[1:]]\n",
    "costs, used_tickets, days = 0, 0, []\n",
    "for i in range(len(prices)):\n",
    "    if(prices[i] > 100):\n",
    "        max_idx = i+1\n",
    "        for j in range(i+1, len(prices)):\n",
    "            if prices[j] > prices[max_idx] and (prices[j] > 200 or prices[j] <= 100):\n",
    "                max_idx = j\n",
    "        if max_idx != len(prices):\n",
    "            prices[max_idx] = 0\n",
    "            used_tickets += 1\n",
    "            days.append(max_idx+1)\n",
    "    costs += prices[i]\n",
    "print(costs)\n",
    "print(1 if prices[-1] > 100 else 0, used_tickets)\n",
    "print(*days)\n",
    "inp.close()"
   ]
  }
 ],
 "metadata": {
  "kernelspec": {
   "display_name": "Python 3 (ipykernel)",
   "language": "python",
   "name": "python3"
  },
  "language_info": {
   "codemirror_mode": {
    "name": "ipython",
    "version": 3
   },
   "file_extension": ".py",
   "mimetype": "text/x-python",
   "name": "python",
   "nbconvert_exporter": "python",
   "pygments_lexer": "ipython3",
   "version": "3.10.6"
  }
 },
 "nbformat": 4,
 "nbformat_minor": 5
}
