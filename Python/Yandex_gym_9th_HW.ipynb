{
 "cells": [
  {
   "cell_type": "code",
   "execution_count": 22,
   "id": "df4d0fb4",
   "metadata": {},
   "outputs": [
    {
     "name": "stdout",
     "output_type": "stream",
     "text": [
      "2\n"
     ]
    }
   ],
   "source": [
    "#Задача A. Сложное уравнение\n",
    "\n",
    "# ( ax + b ) : ( cx + d ) = 0\n",
    "# C soluttion\n",
    "'''#include <stdio.h>\n",
    "#include <stdlib.h>\n",
    "\n",
    "int main()\n",
    "{\n",
    "    FILE *inp = fopen(\"input.txt\", \"r\");\n",
    "    int a, b, c, d;\n",
    "    fscanf(inp, \"%d %d %d %d\", &a, &b, &c, &d);\n",
    "    fclose(inp);\n",
    "\n",
    "    if(!(c == 0 && d == 0))\n",
    "        if(a == 0)\n",
    "            if(b == 0)\n",
    "                printf(\"INF\");\n",
    "            else\n",
    "                printf(\"NO\");\n",
    "        else if(b%a == 0 && (c == 0 || b/a != d/c))\n",
    "            printf(\"%d\", -b/a);\n",
    "        else\n",
    "            printf(\"NO\");\n",
    "    else\n",
    "        printf(\"NO\");\n",
    "    return 0;\n",
    "}'''"
   ]
  },
  {
   "cell_type": "code",
   "execution_count": 47,
   "id": "b8669029",
   "metadata": {
    "collapsed": true
   },
   "outputs": [
    {
     "name": "stdout",
     "output_type": "stream",
     "text": [
      "YES\n",
      "YES\n",
      "YES\n",
      "YES\n",
      "YES\n",
      "YES\n",
      "YES\n",
      "YES\n",
      "YES\n"
     ]
    }
   ],
   "source": [
    "#Задача B. Параллелограмм\n",
    "class penis:\n",
    "    __init__(name: str, length: float) -> penis:\n",
    "        \n",
    "\n",
    "def distance(p1: int, p2: int) -> float:\n",
    "    return ((p1[0]-p2[0])**2 + (p1[1]-p2[1])**2)**0.5\n",
    "\n",
    "inp = open(\"input.txt\")\n",
    "for _ in range(int(inp.readline().strip())):\n",
    "    p = tuple(map(int, inp.readline().strip().split()))\n",
    "    p = tuple((p[i], p[i+1]) for i in range(0, 8, 2))\n",
    "    flag = False\n",
    "    for i in range(2):\n",
    "        first = distance(p[i], p[i-1]) == distance(p[i-2], p[i-3]) and distance(p[i], p[i-2]) == distance(p[i-1], p[i-3])\n",
    "        second = distance(p[i], p[i-1]) == distance(p[i-2], p[i-3]) and distance(p[i], p[i-3]) == distance(p[i-1], p[i-2])\n",
    "        if first or second:\n",
    "            flag = True\n",
    "            break\n",
    "    if flag:\n",
    "        print(\"YES\")\n",
    "    else:\n",
    "        print(\"NO\")\n",
    "inp.close()"
   ]
  },
  {
   "cell_type": "code",
   "execution_count": 60,
   "id": "f9b08830",
   "metadata": {},
   "outputs": [
    {
     "name": "stdout",
     "output_type": "stream",
     "text": [
      "[[25, 16], [25, 16], [25, 16]]\n"
     ]
    }
   ],
   "source": [
    "a = [1, 2, 3, 4, 5]\n",
    "#print(a)\n",
    "\n",
    "b = [[i**2 for i in a[4:2:-1]] for _ in range(3)] #list comprehension\n",
    "print(b)\n",
    "c = {i: i*i for i in a} #dict comprehension\n",
    "#print(c)"
   ]
  }
 ],
 "metadata": {
  "kernelspec": {
   "display_name": "Python 3 (ipykernel)",
   "language": "python",
   "name": "python3"
  },
  "language_info": {
   "codemirror_mode": {
    "name": "ipython",
    "version": 3
   },
   "file_extension": ".py",
   "mimetype": "text/x-python",
   "name": "python",
   "nbconvert_exporter": "python",
   "pygments_lexer": "ipython3",
   "version": "3.10.6"
  }
 },
 "nbformat": 4,
 "nbformat_minor": 5
}
