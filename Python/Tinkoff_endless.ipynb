{
 "cells": [
  {
   "cell_type": "code",
   "execution_count": null,
   "id": "986fe517",
   "metadata": {},
   "outputs": [],
   "source": [
    "#task_1 -> OK\n",
    "t = list(map(int, input().split()))\n",
    "if t[3] > t[1]:\n",
    "    print(t[0] + (t[3] - t[1]) * t[2])\n",
    "else:\n",
    "    print(t[0])"
   ]
  },
  {
   "cell_type": "code",
   "execution_count": 101,
   "id": "06b40b5e",
   "metadata": {
    "collapsed": true
   },
   "outputs": [
    {
     "name": "stdout",
     "output_type": "stream",
     "text": [
      "6\n",
      "3\n"
     ]
    }
   ],
   "source": [
    "#task_2 -> OK\n",
    "from math import log2\n",
    "n = int(input())\n",
    "if n == 1:\n",
    "    print(0)\n",
    "else:\n",
    "    print(int(log2(n-1)) + 1)"
   ]
  },
  {
   "cell_type": "code",
   "execution_count": 33,
   "id": "5f65c9e6",
   "metadata": {
    "collapsed": true
   },
   "outputs": [
    {
     "name": "stdout",
     "output_type": "stream",
     "text": [
      "5 25\n",
      "1  4  9  16  26\n",
      "5\n",
      "25\n"
     ]
    }
   ],
   "source": [
    "#task_3 -> OK\n",
    "t = int(input().split()[1])\n",
    "floor = [int(i) for i in input().split()]\n",
    "t_index = int(input()) - 1\n",
    "if(floor[t_index] - floor[0] <= t or floor[-1] - floor[t_index] <= t):\n",
    "    print(floor[-1] - floor[0])\n",
    "elif(floor[t_index] - floor[0] < floor[-1] - floor[t_index]):\n",
    "    print(floor[t_index] + floor[-1] - 2 * floor[0])\n",
    "else:\n",
    "    print(2 * floor[-1] - floor[t_index] - floor[0])"
   ]
  },
  {
   "cell_type": "code",
   "execution_count": 11,
   "id": "ec44e8b9",
   "metadata": {},
   "outputs": [
    {
     "name": "stdout",
     "output_type": "stream",
     "text": [
      "3 6\n",
      "100 10 1\n",
      "['100', '10', '1']\n",
      "['900', '10', '1']\n",
      "['900', '10', '1']\n",
      "['900', '10', '1']\n",
      "['900', '10', '1']\n",
      "['900', '10', '1']\n",
      "800\n"
     ]
    }
   ],
   "source": [
    "#task_4 -> PT\n",
    "k = int(input().split()[1])\n",
    "nums = sorted(input().split(), key=len, reverse=True)\n",
    "old_sum = sum(map(int, nums))\n",
    "ranks = list(map(len, nums))\n",
    "rank = ranks[0]\n",
    "for i in range(rank):\n",
    "    for _ in range(ranks.count(rank)):\n",
    "        min_ind = nums.index(min(nums[:ranks.count(rank)], key=lambda x: x[i]))\n",
    "        print(nums)\n",
    "        nums[min_ind] = '9' + nums[min_ind][1:]\n",
    "        print(nums)\n",
    "        k -= 1\n",
    "        if k == 0:\n",
    "            break\n",
    "    rank -= 1\n",
    "    if k == 0:\n",
    "        break\n",
    "print(sum(map(int, nums)) - old_sum)"
   ]
  },
  {
   "cell_type": "code",
   "execution_count": 139,
   "id": "f56446c8",
   "metadata": {
    "collapsed": true
   },
   "outputs": [
    {
     "name": "stdout",
     "output_type": "stream",
     "text": [
      "12 12\n",
      "0\n"
     ]
    }
   ],
   "source": [
    "#task_5 -> OK\n",
    "l, r = input().split()\n",
    "l_enc, r_enc = l <= l[0] * len(l), r >= r[0] * len(r)\n",
    "if len(l) == len(r):\n",
    "    print(l_enc + int(r[0]) - int(l[0]) - 1 + r_enc)\n",
    "else:\n",
    "    print(l_enc + 9 - int(l[0]) + 9 * (len(r) - len(l) - 1) + int(r[0]) + r_enc - 1)"
   ]
  },
  {
   "cell_type": "code",
   "execution_count": 27,
   "id": "730d5485",
   "metadata": {
    "collapsed": true
   },
   "outputs": [
    {
     "name": "stdout",
     "output_type": "stream",
     "text": [
      "1 2 1 \n",
      "1 2 1 2\n",
      "-1 -1\n"
     ]
    }
   ],
   "source": [
    "#task_6 -> PT\n",
    "input()\n",
    "heights = list(map(int, input().split()))\n",
    "odd_mask = list(map(lambda x: x%2 == 1, heights[::2]))\n",
    "even_mask = list(map(lambda x: x%2 == 0, heights[1::2]))\n",
    "if odd_mask.count(False) == even_mask.count(False) == 1:\n",
    "    print(odd_mask.index(False) * 2 + 1, even_mask.index(False) * 2 + 2)\n",
    "else:\n",
    "    print(-1, -1)"
   ]
  },
  {
   "cell_type": "code",
   "execution_count": 99,
   "id": "ec699e08",
   "metadata": {
    "collapsed": true
   },
   "outputs": [
    {
     "name": "stdout",
     "output_type": "stream",
     "text": [
      "1 3 1\n",
      "{1: 2, 2: 3, 3: 1}\n",
      "1 2\n"
     ]
    }
   ],
   "source": [
    "#task_7 -> PT\n",
    "def dict_search(d, init=1, nodes=[1]):\n",
    "    if d[init] == 1 and len(nodes) == len(d):\n",
    "        return False\n",
    "    elif d[init] in nodes:\n",
    "        return init\n",
    "    else:\n",
    "        return dict_search(d, d[init], nodes + [d[init]])\n",
    "\n",
    "input()\n",
    "presents = {i[0] + 1: int(i[1]) for i in enumerate(input().split())}\n",
    "diff = set(presents.keys()).difference(set(presents.values()))\n",
    "if len(diff) == 1:\n",
    "    node = dict_search(presents)\n",
    "    presents[node] = diff.pop()\n",
    "    if dict_search(presents) == False:\n",
    "        print(node, presents[node])\n",
    "    else:\n",
    "        print(-1, -1)\n",
    "else:\n",
    "    print(-1, -1)"
   ]
  },
  {
   "cell_type": "code",
   "execution_count": 86,
   "id": "05cd63d7",
   "metadata": {},
   "outputs": [
    {
     "name": "stdout",
     "output_type": "stream",
     "text": [
      "10 10\n",
      "4 6 4 4 6 4 6 6\n",
      "4.0 6.0\n"
     ]
    }
   ],
   "source": [
    "#task_8 -> PT\n",
    "X = float(input().split()[0])\n",
    "cords = [float(i) for i in input().split()]\n",
    "x, y = cords[0], cords[1]\n",
    "cords = list(zip(cords[::2], cords[1::2]))\n",
    "q = abs(cords[0][0] - cords[1][0]) / X\n",
    "if (x, y) == min(cords):\n",
    "    x, y = x / (1 - q), y / (1 - q)\n",
    "elif (x, y) == max(cords):\n",
    "    x, y = x / (1 + q), y / (1 + q)\n",
    "elif x == max(cords)[0]:\n",
    "    x, y = (x - q * y) / (1 + q ** 2), (y + q * x) / (1 + q ** 2)\n",
    "else:\n",
    "    x, y = (x + q * y) / (1 + q ** 2), (y - q * x) / (1 + q ** 2)\n",
    "print(round(x, 4), round(y, 4))"
   ]
  },
  {
   "cell_type": "code",
   "execution_count": 62,
   "id": "5357ce14",
   "metadata": {
    "collapsed": true
   },
   "outputs": [
    {
     "name": "stdout",
     "output_type": "stream",
     "text": [
      "0\n",
      "0\n"
     ]
    }
   ],
   "source": [
    "#task_9 -> PT\n",
    "def recursive_sum(l, result=0):\n",
    "    for i in range(len(l)):\n",
    "        result += l[i]\n",
    "        if l[i] > 100:\n",
    "            l.remove(max(l[i+1:]))\n",
    "            return recursive_sum(l[i+1:], result)\n",
    "    return result\n",
    "dinners = [int(input()) for _ in range(int(input()))]\n",
    "print(recursive_sum(dinners))"
   ]
  },
  {
   "cell_type": "code",
   "execution_count": 1,
   "id": "67a567b5",
   "metadata": {},
   "outputs": [
    {
     "name": "stdout",
     "output_type": "stream",
     "text": [
      "[(1.0, 0.0), (0, 0), (0, 2), (1.0, 0.0), (2, 2), (2, 0)]\n"
     ]
    }
   ],
   "source": [
    "#task_10\n",
    "def points_to_side(a, b):\n",
    "    return ((a[0] - b[0]) ** 2 + (a[1] - b[1]) ** 2) ** 0.5\n",
    "\n",
    "def triangle_square(p1, p2, p3):\n",
    "    a = points_to_side(p1, p2)\n",
    "    b = points_to_side(p2, p3)\n",
    "    c = points_to_side(p3, p1)\n",
    "    p = (a + b + c) / 2\n",
    "    return (p * (p - a) * (p - b) * (p - c)) ** 0.5\n",
    "\n",
    "def y_calcul(a, b, x):\n",
    "    k = abs(a[0] - x) / abs(b[0] - x)\n",
    "    if a[1] < b[1]:\n",
    "        return k * (abs(a[1] - b[1]))\n",
    "    else:\n",
    "        return (1/k) * (abs(a[1] - b[1]))\n",
    "\n",
    "def points_insert(x, pts):\n",
    "    for i in range(len(pts) - 1, -1, -1): #бежим по точкам\n",
    "        flag1, flag2 = pts[i][0] > x and pts[i-1][0] < x, pts[i][0] < x and pts[i-1][0] > x\n",
    "        if flag1 or flag2 :\n",
    "            pts.insert(i, (x, y_calcul(pts[i], pts[i-1], x)))\n",
    "\n",
    "def binary_search(lb, rb):\n",
    "    pass\n",
    "\n",
    "#points = [tuple([int(i) for i in input().split()]) for _ in range(int(input()))]\n",
    "points = [(0, 0), (0, 2), (2, 2), (2, 0)]\n",
    "points_insert(min(points)[0] + max(points)[0] / 2, points)\n",
    "print(points)\n",
    "#print(round(binary_search(min(points), max(points)), 6))"
   ]
  },
  {
   "cell_type": "code",
   "execution_count": 103,
   "id": "7cc09502",
   "metadata": {},
   "outputs": [],
   "source": [
    "?list.insert"
   ]
  }
 ],
 "metadata": {
  "kernelspec": {
   "display_name": "Python 3 (ipykernel)",
   "language": "python",
   "name": "python3"
  },
  "language_info": {
   "codemirror_mode": {
    "name": "ipython",
    "version": 3
   },
   "file_extension": ".py",
   "mimetype": "text/x-python",
   "name": "python",
   "nbconvert_exporter": "python",
   "pygments_lexer": "ipython3",
   "version": "3.10.6"
  }
 },
 "nbformat": 4,
 "nbformat_minor": 5
}
