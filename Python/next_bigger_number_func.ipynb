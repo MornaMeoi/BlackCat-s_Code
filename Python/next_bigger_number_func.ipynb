{
 "cells": [
  {
   "cell_type": "code",
   "execution_count": 60,
   "id": "ede02f28",
   "metadata": {},
   "outputs": [
    {
     "name": "stdout",
     "output_type": "stream",
     "text": [
      "85536615237\n"
     ]
    }
   ],
   "source": [
    "#4kyu task: https://www.codewars.com/kata/55983863da40caa2c900004e\n",
    "def next_bigger(n):\n",
    "    temp = n\n",
    "    n = list(str(n))\n",
    "    for i in range(1, len(n)):\n",
    "        if int(n[-i]) > int(n[-i-1]):#searching from the end for digit which less than previous\n",
    "            #looking for digit which is bigger than found and lesser than previous\n",
    "            ind = len(n[:-i]) + n[-i:].index(min(n[-i:], key=lambda x: x if x > n[-i-1] else n[-i]))\n",
    "            n[ind], n[-i-1] = n[-i-1], n[ind]#swapping them\n",
    "            n = n[:-i] + sorted(n[-i:len(n)])#sorting resulted slice and merging them into one number\n",
    "            break\n",
    "    n = int(''.join(n))\n",
    "    return n if n != temp else -1"
   ]
  }
 ],
 "metadata": {
  "kernelspec": {
   "display_name": "Python 3 (ipykernel)",
   "language": "python",
   "name": "python3"
  },
  "language_info": {
   "codemirror_mode": {
    "name": "ipython",
    "version": 3
   },
   "file_extension": ".py",
   "mimetype": "text/x-python",
   "name": "python",
   "nbconvert_exporter": "python",
   "pygments_lexer": "ipython3",
   "version": "3.10.4"
  }
 },
 "nbformat": 4,
 "nbformat_minor": 5
}
