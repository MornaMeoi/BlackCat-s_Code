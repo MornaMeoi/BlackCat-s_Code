{
 "cells": [
  {
   "cell_type": "code",
   "execution_count": 14,
   "id": "8aab250c",
   "metadata": {},
   "outputs": [
    {
     "name": "stdout",
     "output_type": "stream",
     "text": [
      "6\n",
      "3\n",
      "1 2 3\n"
     ]
    }
   ],
   "source": [
    "#алгоритм поиска максимального числа натуральных слагаемых\n",
    "n = int(input())\n",
    "terms = []\n",
    "for i in range(1, n + 1):\n",
    "    if n == 0:\n",
    "        break\n",
    "    elif n - i >= 0:\n",
    "        terms.append(i)\n",
    "        n -= i\n",
    "    else:\n",
    "        terms.pop(i - n - 1)\n",
    "        terms.append(i)\n",
    "        break\n",
    "print(len(terms))\n",
    "print(*terms, sep=' ')"
   ]
  },
  {
   "cell_type": "code",
   "execution_count": 4,
   "id": "3e72cb2c",
   "metadata": {},
   "outputs": [],
   "source": [
    "list."
   ]
  },
  {
   "cell_type": "code",
   "execution_count": null,
   "id": "14ea65a7",
   "metadata": {},
   "outputs": [],
   "source": []
  }
 ],
 "metadata": {
  "kernelspec": {
   "display_name": "Python 3 (ipykernel)",
   "language": "python",
   "name": "python3"
  },
  "language_info": {
   "codemirror_mode": {
    "name": "ipython",
    "version": 3
   },
   "file_extension": ".py",
   "mimetype": "text/x-python",
   "name": "python",
   "nbconvert_exporter": "python",
   "pygments_lexer": "ipython3",
   "version": "3.10.4"
  }
 },
 "nbformat": 4,
 "nbformat_minor": 5
}
