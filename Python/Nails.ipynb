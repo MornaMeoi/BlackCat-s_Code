{
 "cells": [
  {
   "cell_type": "code",
   "execution_count": 35,
   "id": "9fd5ed07",
   "metadata": {},
   "outputs": [
    {
     "name": "stdout",
     "output_type": "stream",
     "text": [
      "[0, 0, 1, 10]\n",
      "[0, 0, 1, 10]\n",
      "[1, 1, 0, 9]\n",
      "[10, 10, 9, 0]\n",
      "\n",
      "{2}\n",
      "10\n"
     ]
    }
   ],
   "source": [
    "inp = open(\"input.txt\")\n",
    "nums = list(map(int, inp.readlines()[1].split()))\n",
    "matrix = [[0 for _ in range(len(nums)+1)] for _ in range(len(nums)+1)]\n",
    "for i in range(1, len(nums)+1):\n",
    "    matrix[i][0] = nums[i-1]\n",
    "    matrix[0][i] = nums[i-1]\n",
    "\n",
    "for i in range(1, len(matrix)):\n",
    "    for j in range(1, len(matrix)):\n",
    "        matrix[i][j] = abs(matrix[0][j] - matrix[i][0])\n",
    "\n",
    "indices, border, lens_sum = set(), max(nums), 0\n",
    "for i in range(1, len(matrix)):\n",
    "    current_min, min_j = border, 0\n",
    "    for j in range(1, len(matrix)):\n",
    "        if i in indices:\n",
    "            break\n",
    "        elif i != j and matrix[i][j] < current_min:\n",
    "            current_min = matrix[i][j]\n",
    "            min_j = j\n",
    "    if i not in indices:\n",
    "        lens_sum += current_min\n",
    "        indices.add(min_j)\n",
    "\n",
    "for row in matrix:\n",
    "    print(row)\n",
    "print()\n",
    "print(indices)\n",
    "print(lens_sum)\n",
    "inp.close()"
   ]
  },
  {
   "cell_type": "code",
   "execution_count": 11,
   "id": "10310ddc",
   "metadata": {},
   "outputs": [],
   "source": [
    "import random\n",
    "?random.randint"
   ]
  }
 ],
 "metadata": {
  "kernelspec": {
   "display_name": "Python 3 (ipykernel)",
   "language": "python",
   "name": "python3"
  },
  "language_info": {
   "codemirror_mode": {
    "name": "ipython",
    "version": 3
   },
   "file_extension": ".py",
   "mimetype": "text/x-python",
   "name": "python",
   "nbconvert_exporter": "python",
   "pygments_lexer": "ipython3",
   "version": "3.10.6"
  }
 },
 "nbformat": 4,
 "nbformat_minor": 5
}
