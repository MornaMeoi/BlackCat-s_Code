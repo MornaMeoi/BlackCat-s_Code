{
 "cells": [
  {
   "cell_type": "code",
   "execution_count": 7,
   "id": "3812722d",
   "metadata": {
    "collapsed": true
   },
   "outputs": [
    {
     "name": "stdout",
     "output_type": "stream",
     "text": [
      "NO\n",
      "NO\n",
      "YES\n",
      "YES\n",
      "NO\n"
     ]
    }
   ],
   "source": [
    "#Задача A. Двоичный поиск\n",
    "def bin_search(l, r, num):\n",
    "    while l < r:\n",
    "        m = (l + r) // 2\n",
    "        if nums[m] >= num:\n",
    "            r = m\n",
    "        else:\n",
    "            l = m + 1\n",
    "    return l\n",
    "with open('input.txt') as inp:\n",
    "    N, K = map(int, inp.readline().strip().split())\n",
    "    nums = sorted(list(map(int, inp.readline().strip().split())))\n",
    "    k_nums = list(map(int, inp.readline().strip().split()))\n",
    "\n",
    "    for n in k_nums:\n",
    "        if nums[bin_search(0, N-1, n)] == n:\n",
    "            print('YES')\n",
    "        else:\n",
    "            print('NO')"
   ]
  },
  {
   "cell_type": "code",
   "execution_count": 29,
   "id": "64d27cb0",
   "metadata": {
    "collapsed": true
   },
   "outputs": [
    {
     "name": "stdout",
     "output_type": "stream",
     "text": [
      "1\n",
      "3\n",
      "8\n",
      "-5\n",
      "16\n",
      "12\n",
      "1\n",
      "12\n",
      "16\n",
      "8\n"
     ]
    }
   ],
   "source": [
    "#Задача B. Приближенный двоичный поиск\n",
    "def bin_search(l, r, num):\n",
    "    while l < r:\n",
    "        m = (l + r + 1) // 2\n",
    "        if nums[m] < num:\n",
    "            l = m\n",
    "        else:\n",
    "            r = m - 1\n",
    "    return l, l+1\n",
    "with open('input.txt') as inp:\n",
    "    N, K = map(int, inp.readline().strip().split())\n",
    "    nums = list(map(int, inp.readline().strip().split()))\n",
    "    k_nums = list(map(int, inp.readline().strip().split()))\n",
    "\n",
    "    for n in k_nums:\n",
    "        l, r = bin_search(0, N-1, n)\n",
    "        if r != N:\n",
    "            if abs(n - nums[l]) <= abs(n - nums[r]):\n",
    "                print(nums[l])\n",
    "            else:\n",
    "                print(nums[r])\n",
    "        else:\n",
    "            print(nums[l])"
   ]
  },
  {
   "cell_type": "code",
   "execution_count": 51,
   "id": "76441cd2",
   "metadata": {},
   "outputs": [
    {
     "name": "stdout",
     "output_type": "stream",
     "text": [
      "1 1 1000\n",
      "32\n"
     ]
    }
   ],
   "source": [
    "#Задача C. Дипломы\n",
    "def check_squares(m, params):\n",
    "    width, height, n = params\n",
    "    return width * m >= height * (((n - 1) // m) + 1)\n",
    "\n",
    "def bin_search(l, r, check, check_params):\n",
    "    while l < r:\n",
    "        m = (l + r) // 2\n",
    "        if check(m, check_params):\n",
    "            r = m\n",
    "        else:\n",
    "            l = m + 1\n",
    "    return l\n",
    "\n",
    "w, h, n = map(int, input().split())\n",
    "first = bin_search(1, n-1, check_squares, (w, h, n)) * w\n",
    "second = bin_search(1, n-1, check_squares, (h, w, n)) * h\n",
    "print(min(first, second))"
   ]
  },
  {
   "cell_type": "code",
   "execution_count": 22,
   "id": "239e0087",
   "metadata": {
    "collapsed": true
   },
   "outputs": [
    {
     "name": "stdout",
     "output_type": "stream",
     "text": [
      "1 1 2 2 1\n",
      "0\n"
     ]
    }
   ],
   "source": [
    "#Задача D. Космическое поселение\n",
    "def check_borders(m, params):\n",
    "    n, width, height, square_width, square_height = params\n",
    "    rows = square_width // (width + 2 * m)\n",
    "    return False if rows == 0 else ((n - 1) // rows + 1) * (height + 2 * m) <= square_height\n",
    "\n",
    "def bin_search(l, r, check, check_params):\n",
    "    while l < r:\n",
    "        m = (l + r + 1) // 2\n",
    "        if check(m, check_params):\n",
    "            l = m\n",
    "        else:\n",
    "            r = m - 1\n",
    "    return l\n",
    "\n",
    "n, a, b, w, h = map(int, input().split())\n",
    "first = bin_search(0, (w - 1) // 2, check_borders, (n, a, b, w, h))\n",
    "second = bin_search(0, (w - 1) // 2, check_borders, (n, b, a, w, h))\n",
    "print(max(first, second))"
   ]
  },
  {
   "cell_type": "code",
   "execution_count": 74,
   "id": "03353762",
   "metadata": {
    "collapsed": true
   },
   "outputs": [
    {
     "name": "stdout",
     "output_type": "stream",
     "text": [
      "1000000000000000\n",
      "1000000000000000\n",
      "0\n",
      "1333333333333334\n"
     ]
    }
   ],
   "source": [
    "#Задача E. Улучшение успеваемости\n",
    "from decimal import Decimal\n",
    "def fives_amount(m, params):\n",
    "    a, b, c = params\n",
    "    return Decimal(a*2 + b*3 + c*4 + m*5) / Decimal(a+b+c+m) >= Decimal(3.5)\n",
    "\n",
    "def bin_search(l, r, check, check_params):\n",
    "    while l < r:\n",
    "        m = (l + r) // 2\n",
    "        if check(m, check_params):\n",
    "            r = m\n",
    "        else:\n",
    "            l = m + 1\n",
    "    return l\n",
    "\n",
    "a, b, c = (int(input()) for _ in range(3))\n",
    "print(bin_search(0, a*2 + b, fives_amount, (a, b, c)))"
   ]
  },
  {
   "cell_type": "code",
   "execution_count": 81,
   "id": "d73d3437",
   "metadata": {
    "collapsed": true
   },
   "outputs": [
    {
     "name": "stdout",
     "output_type": "stream",
     "text": [
      "4 2 1\n",
      "3\n"
     ]
    }
   ],
   "source": [
    "#Задача F. Очень легкая задача\n",
    "def copies_counter(m, params):\n",
    "    amount, first, second = params\n",
    "    return m//first + m//second >= amount - 1\n",
    "\n",
    "def bin_search(l, r, check, check_params):\n",
    "    while l < r:\n",
    "        m = (l + r) // 2\n",
    "        if check(m, check_params):\n",
    "            r = m\n",
    "        else:\n",
    "            l = m + 1\n",
    "    return l\n",
    "\n",
    "N, x, y = map(int, input().split())\n",
    "print(min(x, y) + bin_search(0, 10 ** 9, copies_counter, (N, x, y)))"
   ]
  },
  {
   "cell_type": "code",
   "execution_count": 110,
   "id": "70a753ec",
   "metadata": {
    "collapsed": true
   },
   "outputs": [
    {
     "name": "stdout",
     "output_type": "stream",
     "text": [
      "6\n",
      "7\n",
      "38\n",
      "2\n"
     ]
    }
   ],
   "source": [
    "#Задача G. Площадь\n",
    "def amount_checker(m, params):\n",
    "    length, width, amount = params\n",
    "    amount -= 2 * (m-1) * (length + width - 2*(m-1))\n",
    "    length = length if m in (0, 1) else length - 2 * (m - 1)\n",
    "    width = width if m in (0, 1) else width - 2 * (m - 1)\n",
    "    return 2 * (length + width - 2) <= amount\n",
    "\n",
    "def bin_search(l, r, check, check_params):\n",
    "    while l < r:\n",
    "        m = (l + r + 1) // 2\n",
    "        if check(m, check_params):\n",
    "            l = m\n",
    "        else:\n",
    "            r = m - 1\n",
    "    return l\n",
    "\n",
    "n, m, t = (int(input()) for _ in range(3))\n",
    "print(bin_search(0, min(n, m) // 2, amount_checker, (n, m, t)))"
   ]
  },
  {
   "cell_type": "code",
   "execution_count": 115,
   "id": "723012ee",
   "metadata": {
    "collapsed": true
   },
   "outputs": [
    {
     "name": "stdout",
     "output_type": "stream",
     "text": [
      "4 11\n",
      "802\n",
      "743\n",
      "457\n",
      "539\n",
      "200\n"
     ]
    }
   ],
   "source": [
    "#Задача H. Провода\n",
    "def amount_checker(m, params):\n",
    "    amount, lengths = params\n",
    "    return sum(map(lambda x: x // m, lengths)) >= amount\n",
    "\n",
    "def bin_search(l, r, check, check_params):\n",
    "    while l < r:\n",
    "        m = (l + r + 1) // 2\n",
    "        if check(m, check_params):\n",
    "            l = m\n",
    "        else:\n",
    "            r = m - 1\n",
    "    return l\n",
    "\n",
    "N, K = map(int, input().split())\n",
    "L = [int(input()) for _ in range(N)]\n",
    "print(bin_search(0, max(L), amount_checker, (K, L)))"
   ]
  },
  {
   "cell_type": "code",
   "execution_count": 129,
   "id": "986356cd",
   "metadata": {
    "collapsed": true
   },
   "outputs": [
    {
     "name": "stdout",
     "output_type": "stream",
     "text": [
      "9\n"
     ]
    }
   ],
   "source": [
    "#Задача I. Субботник\n",
    "with open('input.txt') as inp:\n",
    "    N, R, C = map(int, inp.readline().strip().split())\n",
    "    heights = sorted([int(inp.readline().strip()) for _ in range(N)])\n",
    "\n",
    "    answer = heights[-1]\n",
    "    for i in range(N%(R*C) + 1):\n",
    "        diffs = []\n",
    "        for j in range(R):\n",
    "            diffs.append(heights[C*j + C - 1 + i] - heights[C*j + i])\n",
    "        temp = max(diffs)\n",
    "        answer = answer if temp > answer else temp\n",
    "    print(answer)"
   ]
  },
  {
   "cell_type": "code",
   "execution_count": 138,
   "id": "c8c55052",
   "metadata": {
    "collapsed": true
   },
   "outputs": [
    {
     "name": "stdout",
     "output_type": "stream",
     "text": [
      "7\n",
      "10\n",
      "9\n"
     ]
    }
   ],
   "source": [
    "#Задача J. Медиана объединения\n",
    "inp = open('input.txt')\n",
    "N, L = map(int, inp.readline().strip().split())\n",
    "seqs = [tuple(map(int, inp.readline().strip().split())) for _ in range(N)]\n",
    "inp.close()\n",
    "\n",
    "for i in range(N-1):\n",
    "    for j in range(i+1, N):\n",
    "        first = second = 0\n",
    "        for _ in range(L-1):\n",
    "            if seqs[i][first] < seqs[j][second]:\n",
    "                first += 1\n",
    "            else:\n",
    "                second += 1\n",
    "        print(min(seqs[i][first], seqs[j][second]))"
   ]
  },
  {
   "cell_type": "code",
   "execution_count": 146,
   "id": "7d9eb9c9",
   "metadata": {},
   "outputs": [
    {
     "name": "stdout",
     "output_type": "stream",
     "text": [
      "7\n",
      "10\n",
      "9\n"
     ]
    }
   ],
   "source": [
    "#Задача K. Медиана объединения-2\n",
    "inp = open('input.txt')\n",
    "N, L = map(int, inp.readline().strip().split())\n",
    "seqs_koeffs = [tuple(map(int, inp.readline().strip().split())) for _ in range(N)]\n",
    "inp.close()\n",
    "\n",
    "for i in range(N-1):\n",
    "    for j in range(i+1, N):\n",
    "        x1, d1, a1, c1, m1 = seqs_koeffs[i]\n",
    "        x2, d2, a2, c2, m2 = seqs_koeffs[j]\n",
    "\n",
    "        for _ in range(L-1):\n",
    "            if x1 < x2:\n",
    "                x1 += d1\n",
    "                d1 = (a1*d1 + c1) % m1\n",
    "            else:\n",
    "                x2 += d2\n",
    "                d2 = (a2*d2 + c2) % m2\n",
    "        print(min(x1, x2))"
   ]
  }
 ],
 "metadata": {
  "kernelspec": {
   "display_name": "Python 3 (ipykernel)",
   "language": "python",
   "name": "python3"
  },
  "language_info": {
   "codemirror_mode": {
    "name": "ipython",
    "version": 3
   },
   "file_extension": ".py",
   "mimetype": "text/x-python",
   "name": "python",
   "nbconvert_exporter": "python",
   "pygments_lexer": "ipython3",
   "version": "3.10.6"
  }
 },
 "nbformat": 4,
 "nbformat_minor": 5
}
