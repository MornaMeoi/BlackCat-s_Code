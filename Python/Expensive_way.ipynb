{
 "cells": [
  {
   "cell_type": "code",
   "execution_count": 24,
   "id": "09269990",
   "metadata": {},
   "outputs": [
    {
     "name": "stdout",
     "output_type": "stream",
     "text": [
      "9 9 9 9 9\n",
      "3 0 0 0 0\n",
      "9 9 9 9 9\n",
      "6 6 6 6 8\n",
      "9 9 9 9 9\n",
      "\n",
      "74\n",
      "D D R R R R D D\n",
      "9 18 27 36 45\n",
      "12 18 27 36 45\n",
      "21 30 39 48 57\n",
      "27 36 45 54 65\n",
      "36 45 54 63 74\n"
     ]
    }
   ],
   "source": [
    "inp = open(\"input.txt\")\n",
    "arr = [list(map(int, line.split())) for line in inp.readlines()[1:]]\n",
    "\n",
    "for row in arr:\n",
    "    print(*row)\n",
    "print()\n",
    "\n",
    "for j in range(1, len(arr[0])):\n",
    "    arr[0][j] += arr[0][j-1]\n",
    "for i in range(1, len(arr)):\n",
    "    arr[i][0] += arr[i-1][0]\n",
    "\n",
    "for i in range(1, len(arr)):\n",
    "    for j in range(1, len(arr[0])):\n",
    "        arr[i][j] += max(arr[i-1][j], arr[i][j-1])\n",
    "\n",
    "directions = []\n",
    "i, j = len(arr)-1, len(arr[0])-1\n",
    "while not (i == 0 and j == 0):\n",
    "    if i != 0 and j != 0:\n",
    "        if arr[i-1][j] > arr[i][j-1]:\n",
    "            directions.append('D')\n",
    "            i -= 1\n",
    "        else:\n",
    "            directions.append('R')\n",
    "            j -= 1\n",
    "    elif i == 0:\n",
    "        directions.append('R')\n",
    "        j -= 1\n",
    "    else:\n",
    "        directions.append('D')\n",
    "        i -= 1\n",
    "\n",
    "print(arr[-1][-1])\n",
    "print(*directions[::-1])\n",
    "\n",
    "for row in arr:\n",
    "    print(*row)\n",
    "inp.close()"
   ]
  }
 ],
 "metadata": {
  "kernelspec": {
   "display_name": "Python 3 (ipykernel)",
   "language": "python",
   "name": "python3"
  },
  "language_info": {
   "codemirror_mode": {
    "name": "ipython",
    "version": 3
   },
   "file_extension": ".py",
   "mimetype": "text/x-python",
   "name": "python",
   "nbconvert_exporter": "python",
   "pygments_lexer": "ipython3",
   "version": "3.10.6"
  }
 },
 "nbformat": 4,
 "nbformat_minor": 5
}
