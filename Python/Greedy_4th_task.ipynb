{
 "cells": [
  {
   "cell_type": "code",
   "execution_count": 2,
   "id": "ce53ed7b",
   "metadata": {
    "scrolled": true
   },
   "outputs": [
    {
     "name": "stdout",
     "output_type": "stream",
     "text": [
      "vjsdjvkdsfjvnkjbvDASNLAKDVNJKVBDSJK\n",
      "17 139\n",
      "v: 001\n",
      "j: 000\n",
      "s: 1100\n",
      "d: 1001\n",
      "k: 1000\n",
      "f: 11010\n",
      "n: 110111\n",
      "b: 110110\n",
      "D: 1111\n",
      "A: 1011\n",
      "S: 1010\n",
      "N: 0101\n",
      "L: 01101\n",
      "K: 1110\n",
      "V: 0100\n",
      "J: 0111\n",
      "B: 01100\n",
      "0010001100100100000110001001110011010000001110111100000011011000111111011101001010110110111110111101000101011111100100011001111101001111110"
     ]
    }
   ],
   "source": [
    "#My realisation of Hoffman's compression algorithm\n",
    "def tree_find_cypher(a, node):\n",
    "    cypher = ''\n",
    "    if node in tree.keys():\n",
    "        if a in tree[node]:\n",
    "            cypher += str(tree[node].index(a))\n",
    "        else:\n",
    "            temp = tree_find_cypher(a, tree[node][0])\n",
    "            if temp != '':\n",
    "                cypher += '0' + temp\n",
    "            temp = tree_find_cypher(a, tree[node][1])\n",
    "            if temp != '':\n",
    "                cypher += '1' + temp\n",
    "    return cypher\n",
    "\n",
    "tree = {} #binary tree\n",
    "def main():\n",
    "    message = input()\n",
    "    symbols_count = {i: message.count(i) for i in message} #dict for counting different symbols\n",
    "    symbols = [[key, value] for key, value in symbols_count.items()] #making priority queue\n",
    "    root = len(symbols) - 2 #name of binary tree root (last iteration == number of nodes)\n",
    "    #making binary tree in dict in format {node:[left_child(0), right_child(1)]}\n",
    "    for i in range(root + 1):\n",
    "        symbols.sort(key=lambda x: x[1], reverse=True)#sorting by priority\n",
    "        temp1, temp2 = symbols.pop(), symbols.pop()\n",
    "        tree[i] = [temp1[0], temp2[0]]\n",
    "        symbols.append([i, temp1[1] + temp2[1]])#adding node to queue\n",
    "\n",
    "    #substitution counts of symbols by their cyphers\n",
    "    for key in symbols_count.keys():\n",
    "        if len(tree) != 0:\n",
    "            symbols_count[key] = tree_find_cypher(key, root)\n",
    "        else:\n",
    "            symbols_count[key] = '0'\n",
    "\n",
    "    #calculating length of cyphered message\n",
    "    bits_in_cypher = 0\n",
    "    for symbol, cypher in symbols_count.items():\n",
    "        bits_in_cypher += message.count(symbol) * len(cypher)\n",
    "\n",
    "    #printng number of different symbols and length of cyphered message\n",
    "    print(len(symbols_count), bits_in_cypher, sep=' ')\n",
    "    for key, value in symbols_count.items():\n",
    "        print(f'{key}: {value}')\n",
    "    for symbol in message:\n",
    "        print(symbols_count[symbol], end='')\n",
    "\n",
    "if __name__ == '__main__':\n",
    "    main()"
   ]
  }
 ],
 "metadata": {
  "kernelspec": {
   "display_name": "Python 3 (ipykernel)",
   "language": "python",
   "name": "python3"
  },
  "language_info": {
   "codemirror_mode": {
    "name": "ipython",
    "version": 3
   },
   "file_extension": ".py",
   "mimetype": "text/x-python",
   "name": "python",
   "nbconvert_exporter": "python",
   "pygments_lexer": "ipython3",
   "version": "3.10.4"
  }
 },
 "nbformat": 4,
 "nbformat_minor": 5
}
