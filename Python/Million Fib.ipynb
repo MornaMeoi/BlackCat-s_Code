{
 "cells": [
  {
   "cell_type": "code",
   "execution_count": 19,
   "id": "09803a0f",
   "metadata": {},
   "outputs": [
    {
     "name": "stdout",
     "output_type": "stream",
     "text": [
      "-8\n"
     ]
    }
   ],
   "source": [
    "#3kyu task: https://www.codewars.com/kata/53d40c1e2f13e331fc000c26\n",
    "def fib1(n):\n",
    "    def multiply_matrices(M1, M2):\n",
    "        \"\"\"Умножение матриц\n",
    "        (ожидаются матрицы в виде списка список размером 2x2).\"\"\"\n",
    "\n",
    "        a11 = M1[0][0]*M2[0][0] + M1[0][1]*M2[1][0]\n",
    "        a12 = M1[0][0]*M2[0][1] + M1[0][1]*M2[1][1]\n",
    "        a21 = M1[1][0]*M2[0][0] + M1[1][1]*M2[1][0]\n",
    "        a22 = M1[1][0]*M2[0][1] + M1[1][1]*M2[1][1]\n",
    "        r = [[a11, a12], [a21, a22]]\n",
    "        return r\n",
    "\n",
    "    def get_matrix_power(M, p):\n",
    "        \"\"\"Возведение матрицы в степень (ожидается p равная степени двойки).\"\"\"\n",
    "\n",
    "        if p == 1:\n",
    "            return M\n",
    "        if p in memo:\n",
    "            return memo[p]\n",
    "        K = get_matrix_power(M, int(p/2))\n",
    "        R = multiply_matrices(K, K)\n",
    "        memo[p] = R\n",
    "        return R\n",
    "    \n",
    "    Q = [[1, 1],\n",
    "         [1, 0]]\n",
    "\n",
    "    memo = {}\n",
    "    \"\"\"Получение n-го числа Фибоначчи\n",
    "    (в качестве n ожидается неотрицательное целое число).\"\"\"\n",
    "    if n == 0:\n",
    "        return 0\n",
    "    if abs(n) == 1:\n",
    "        return 1\n",
    "    # Разложение переданной степени на степени, равные степени двойки,\n",
    "    # т.е. 62 = 2^5 + 2^4 + 2^3 + 2^2 + 2^0 = 32 + 16 + 8 + 4 + 1.\n",
    "    powers = [int(pow(2, b))\n",
    "              for (b, d) in enumerate(reversed(bin(abs(n)-1)[2:])) if d == '1']\n",
    "    # Тоже самое, но менее pythonic: http://pastebin.com/h8cKDkHX\n",
    "\n",
    "    matrices = [get_matrix_power(Q, p) for p in powers]\n",
    "    while len(matrices) > 1:\n",
    "        M1 = matrices.pop()\n",
    "        M2 = matrices.pop()\n",
    "        R = multiply_matrices(M1, M2)\n",
    "        matrices.append(R)\n",
    "    if n < 0 and n % 2 == 0:\n",
    "        return -matrices[0][0][0]\n",
    "    return matrices[0][0][0]"
   ]
  }
 ],
 "metadata": {
  "kernelspec": {
   "display_name": "Python 3 (ipykernel)",
   "language": "python",
   "name": "python3"
  },
  "language_info": {
   "codemirror_mode": {
    "name": "ipython",
    "version": 3
   },
   "file_extension": ".py",
   "mimetype": "text/x-python",
   "name": "python",
   "nbconvert_exporter": "python",
   "pygments_lexer": "ipython3",
   "version": "3.10.6"
  }
 },
 "nbformat": 4,
 "nbformat_minor": 5
}
